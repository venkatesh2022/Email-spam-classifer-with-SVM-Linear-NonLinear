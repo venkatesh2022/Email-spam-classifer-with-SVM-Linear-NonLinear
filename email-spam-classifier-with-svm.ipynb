{
 "cells": [
  {
   "cell_type": "code",
   "execution_count": 1,
   "metadata": {
    "_cell_guid": "b1076dfc-b9ad-4769-8c92-a6c4dae69d19",
    "_uuid": "8f2839f25d086af736a60e9eeb907d3b93b6e0e5",
    "execution": {
     "iopub.execute_input": "2020-08-21T06:39:56.893249Z",
     "iopub.status.busy": "2020-08-21T06:39:56.892546Z",
     "iopub.status.idle": "2020-08-21T06:39:56.900095Z",
     "shell.execute_reply": "2020-08-21T06:39:56.901088Z"
    },
    "papermill": {
     "duration": 0.029835,
     "end_time": "2020-08-21T06:39:56.901467",
     "exception": false,
     "start_time": "2020-08-21T06:39:56.871632",
     "status": "completed"
    },
    "tags": []
   },
   "outputs": [
    {
     "name": "stdout",
     "output_type": "stream",
     "text": [
      "/kaggle/input/spambase/realspambase.data\n"
     ]
    }
   ],
   "source": [
    "# This Python 3 environment comes with many helpful analytics libraries installed\n",
    "# It is defined by the kaggle/python Docker image: https://github.com/kaggle/docker-python\n",
    "# For example, here's several helpful packages to load\n",
    "\n",
    "import numpy as np # linear algebra\n",
    "import pandas as pd # data processing, CSV file I/O (e.g. pd.read_csv)\n",
    "\n",
    "# Input data files are available in the read-only \"../input/\" directory\n",
    "# For example, running this (by clicking run or pressing Shift+Enter) will list all files under the input directory\n",
    "\n",
    "import os\n",
    "for dirname, _, filenames in os.walk('/kaggle/input'):\n",
    "    for filename in filenames:\n",
    "        print(os.path.join(dirname, filename))\n",
    "\n",
    "# You can write up to 5GB to the current directory (/kaggle/working/) that gets preserved as output when you create a version using \"Save & Run All\" \n",
    "# You can also write temporary files to /kaggle/temp/, but they won't be saved outside of the current session"
   ]
  },
  {
   "cell_type": "markdown",
   "execution_count": null,
   "metadata": {
    "papermill": {
     "duration": 0.011257,
     "end_time": "2020-08-21T06:39:56.926570",
     "exception": false,
     "start_time": "2020-08-21T06:39:56.915313",
     "status": "completed"
    },
    "tags": []
   },
   "source": [
    "# Linear SVM"
   ]
  },
  {
   "cell_type": "markdown",
   "execution_count": null,
   "metadata": {
    "_cell_guid": "79c7e3d0-c299-4dcb-8224-4455121ee9b0",
    "_uuid": "d629ff2d2480ee46fbb7e2d37f6b5fab8052498a",
    "collapsed": true,
    "papermill": {
     "duration": 0.011197,
     "end_time": "2020-08-21T06:39:56.949788",
     "exception": false,
     "start_time": "2020-08-21T06:39:56.938591",
     "status": "completed"
    },
    "tags": []
   },
   "source": [
    "Build a linear SVM classifier to classify emails into spam and ham."
   ]
  },
  {
   "cell_type": "markdown",
   "execution_count": null,
   "metadata": {
    "papermill": {
     "duration": 0.010721,
     "end_time": "2020-08-21T06:39:56.971564",
     "exception": false,
     "start_time": "2020-08-21T06:39:56.960843",
     "status": "completed"
    },
    "tags": []
   },
   "source": [
    "## Data Understanding\n",
    "\n",
    "Let's first load the data and understand the attributes meanings, shape of the dataset etc.\n"
   ]
  },
  {
   "cell_type": "code",
   "execution_count": 2,
   "metadata": {
    "execution": {
     "iopub.execute_input": "2020-08-21T06:39:57.001701Z",
     "iopub.status.busy": "2020-08-21T06:39:57.000791Z",
     "iopub.status.idle": "2020-08-21T06:39:58.849779Z",
     "shell.execute_reply": "2020-08-21T06:39:58.849125Z"
    },
    "papermill": {
     "duration": 1.86743,
     "end_time": "2020-08-21T06:39:58.849950",
     "exception": false,
     "start_time": "2020-08-21T06:39:56.982520",
     "status": "completed"
    },
    "tags": []
   },
   "outputs": [],
   "source": [
    "\n",
    "import numpy as np\n",
    "import pandas as pd\n",
    "from sklearn.model_selection import train_test_split\n",
    "from sklearn.svm import SVC\n",
    "from sklearn.metrics import confusion_matrix\n",
    "from sklearn.model_selection import validation_curve\n",
    "from sklearn.model_selection import KFold\n",
    "from sklearn.model_selection import cross_val_score\n",
    "from sklearn.model_selection import GridSearchCV\n",
    "import matplotlib.pyplot as plt\n",
    "import seaborn as sns"
   ]
  },
  {
   "cell_type": "code",
   "execution_count": 3,
   "metadata": {
    "execution": {
     "iopub.execute_input": "2020-08-21T06:39:58.882552Z",
     "iopub.status.busy": "2020-08-21T06:39:58.881734Z",
     "iopub.status.idle": "2020-08-21T06:39:58.958735Z",
     "shell.execute_reply": "2020-08-21T06:39:58.957891Z"
    },
    "papermill": {
     "duration": 0.096618,
     "end_time": "2020-08-21T06:39:58.958889",
     "exception": false,
     "start_time": "2020-08-21T06:39:58.862271",
     "status": "completed"
    },
    "tags": []
   },
   "outputs": [
    {
     "name": "stdout",
     "output_type": "stream",
     "text": [
      "     0     1     2    3     4     5     6     7     8     9   ...    48  \\\n",
      "0  0.00  0.64  0.64  0.0  0.32  0.00  0.00  0.00  0.00  0.00  ...  0.00   \n",
      "1  0.21  0.28  0.50  0.0  0.14  0.28  0.21  0.07  0.00  0.94  ...  0.00   \n",
      "2  0.06  0.00  0.71  0.0  1.23  0.19  0.19  0.12  0.64  0.25  ...  0.01   \n",
      "3  0.00  0.00  0.00  0.0  0.63  0.00  0.31  0.63  0.31  0.63  ...  0.00   \n",
      "4  0.00  0.00  0.00  0.0  0.63  0.00  0.31  0.63  0.31  0.63  ...  0.00   \n",
      "\n",
      "      49   50     51     52     53     54   55    56  57  \n",
      "0  0.000  0.0  0.778  0.000  0.000  3.756   61   278   1  \n",
      "1  0.132  0.0  0.372  0.180  0.048  5.114  101  1028   1  \n",
      "2  0.143  0.0  0.276  0.184  0.010  9.821  485  2259   1  \n",
      "3  0.137  0.0  0.137  0.000  0.000  3.537   40   191   1  \n",
      "4  0.135  0.0  0.135  0.000  0.000  3.537   40   191   1  \n",
      "\n",
      "[5 rows x 58 columns]\n"
     ]
    }
   ],
   "source": [
    "# load the data\n",
    "email_rec = pd.read_csv(\"../input/spambase/realspambase.data\",  sep = ',', header= None )\n",
    "print(email_rec.head())"
   ]
  },
  {
   "cell_type": "markdown",
   "execution_count": null,
   "metadata": {
    "papermill": {
     "duration": 0.012468,
     "end_time": "2020-08-21T06:39:58.984930",
     "exception": false,
     "start_time": "2020-08-21T06:39:58.972462",
     "status": "completed"
    },
    "tags": []
   },
   "source": [
    "As of now, the columns are named as integers. Let's manually name the columns appropriately (column names are available at the UCI website here: https://archive.ics.uci.edu/ml/machine-learning-databases/spambase/spambase.names)"
   ]
  },
  {
   "cell_type": "code",
   "execution_count": 4,
   "metadata": {
    "execution": {
     "iopub.execute_input": "2020-08-21T06:39:59.035872Z",
     "iopub.status.busy": "2020-08-21T06:39:59.034999Z",
     "iopub.status.idle": "2020-08-21T06:39:59.040607Z",
     "shell.execute_reply": "2020-08-21T06:39:59.039815Z"
    },
    "papermill": {
     "duration": 0.042593,
     "end_time": "2020-08-21T06:39:59.040796",
     "exception": false,
     "start_time": "2020-08-21T06:39:58.998203",
     "status": "completed"
    },
    "tags": []
   },
   "outputs": [
    {
     "name": "stdout",
     "output_type": "stream",
     "text": [
      "   word_freq_make  word_freq_address  word_freq_all  word_freq_3d  \\\n",
      "0            0.00               0.64           0.64           0.0   \n",
      "1            0.21               0.28           0.50           0.0   \n",
      "2            0.06               0.00           0.71           0.0   \n",
      "3            0.00               0.00           0.00           0.0   \n",
      "4            0.00               0.00           0.00           0.0   \n",
      "\n",
      "   word_freq_our  word_freq_over  word_freq_remove  word_freq_internet  \\\n",
      "0           0.32            0.00              0.00                0.00   \n",
      "1           0.14            0.28              0.21                0.07   \n",
      "2           1.23            0.19              0.19                0.12   \n",
      "3           0.63            0.00              0.31                0.63   \n",
      "4           0.63            0.00              0.31                0.63   \n",
      "\n",
      "   word_freq_order  word_freq_mail  ...  char_freq_;  char_freq_(  \\\n",
      "0             0.00            0.00  ...         0.00        0.000   \n",
      "1             0.00            0.94  ...         0.00        0.132   \n",
      "2             0.64            0.25  ...         0.01        0.143   \n",
      "3             0.31            0.63  ...         0.00        0.137   \n",
      "4             0.31            0.63  ...         0.00        0.135   \n",
      "\n",
      "   char_freq_[  char_freq_!  char_freq_$  char_freq_hash  \\\n",
      "0          0.0        0.778        0.000           0.000   \n",
      "1          0.0        0.372        0.180           0.048   \n",
      "2          0.0        0.276        0.184           0.010   \n",
      "3          0.0        0.137        0.000           0.000   \n",
      "4          0.0        0.135        0.000           0.000   \n",
      "\n",
      "   capital_run_length_average  capital_run_length_longest  \\\n",
      "0                       3.756                          61   \n",
      "1                       5.114                         101   \n",
      "2                       9.821                         485   \n",
      "3                       3.537                          40   \n",
      "4                       3.537                          40   \n",
      "\n",
      "   capital_run_length_total  spam  \n",
      "0                       278     1  \n",
      "1                      1028     1  \n",
      "2                      2259     1  \n",
      "3                       191     1  \n",
      "4                       191     1  \n",
      "\n",
      "[5 rows x 58 columns]\n"
     ]
    }
   ],
   "source": [
    "# renaming the columns\n",
    "email_rec.columns  = [\"word_freq_make\", \"word_freq_address\", \"word_freq_all\", \"word_freq_3d\", \n",
    "                      \"word_freq_our\", \"word_freq_over\", \"word_freq_remove\", \"word_freq_internet\", \n",
    "                      \"word_freq_order\", \"word_freq_mail\", \"word_freq_receive\", \"word_freq_will\", \n",
    "                      \"word_freq_people\", \"word_freq_report\", \"word_freq_addresses\", \"word_freq_free\", \n",
    "                      \"word_freq_business\", \"word_freq_email\", \"word_freq_you\", \"word_freq_credit\", \n",
    "                      \"word_freq_your\", \"word_freq_font\", \"word_freq_000\", \"word_freq_money\", \"word_freq_hp\", \n",
    "                      \"word_freq_hpl\", \"word_freq_george\", \"word_freq_650\", \"word_freq_lab\", \"word_freq_labs\", \n",
    "                      \"word_freq_telnet\", \"word_freq_857\", \"word_freq_data\", \"word_freq_415\", \"word_freq_85\", \n",
    "                      \"word_freq_technology\", \"word_freq_1999\", \"word_freq_parts\", \"word_freq_pm\", \"word_freq_direct\",\n",
    "                      \"word_freq_cs\", \"word_freq_meeting\", \"word_freq_original\", \"word_freq_project\", \"word_freq_re\", \n",
    "                      \"word_freq_edu\", \"word_freq_table\", \"word_freq_conference\", \"char_freq_;\", \"char_freq_(\", \n",
    "                      \"char_freq_[\", \"char_freq_!\", \"char_freq_$\", \"char_freq_hash\", \"capital_run_length_average\", \n",
    "                      \"capital_run_length_longest\", \"capital_run_length_total\", \"spam\"]\n",
    "print(email_rec.head())"
   ]
  },
  {
   "cell_type": "code",
   "execution_count": 5,
   "metadata": {
    "execution": {
     "iopub.execute_input": "2020-08-21T06:39:59.070204Z",
     "iopub.status.busy": "2020-08-21T06:39:59.069306Z",
     "iopub.status.idle": "2020-08-21T06:39:59.073176Z",
     "shell.execute_reply": "2020-08-21T06:39:59.072548Z"
    },
    "papermill": {
     "duration": 0.020299,
     "end_time": "2020-08-21T06:39:59.073291",
     "exception": false,
     "start_time": "2020-08-21T06:39:59.052992",
     "status": "completed"
    },
    "tags": []
   },
   "outputs": [
    {
     "name": "stdout",
     "output_type": "stream",
     "text": [
      "(4601, 58)\n"
     ]
    }
   ],
   "source": [
    "# look at dimensions of the df\n",
    "print(email_rec.shape)"
   ]
  },
  {
   "cell_type": "code",
   "execution_count": 6,
   "metadata": {
    "execution": {
     "iopub.execute_input": "2020-08-21T06:39:59.103236Z",
     "iopub.status.busy": "2020-08-21T06:39:59.102425Z",
     "iopub.status.idle": "2020-08-21T06:39:59.124623Z",
     "shell.execute_reply": "2020-08-21T06:39:59.123725Z"
    },
    "papermill": {
     "duration": 0.040063,
     "end_time": "2020-08-21T06:39:59.124805",
     "exception": false,
     "start_time": "2020-08-21T06:39:59.084742",
     "status": "completed"
    },
    "tags": []
   },
   "outputs": [
    {
     "name": "stdout",
     "output_type": "stream",
     "text": [
      "<class 'pandas.core.frame.DataFrame'>\n",
      "RangeIndex: 4601 entries, 0 to 4600\n",
      "Data columns (total 58 columns):\n",
      " #   Column                      Non-Null Count  Dtype  \n",
      "---  ------                      --------------  -----  \n",
      " 0   word_freq_make              4601 non-null   float64\n",
      " 1   word_freq_address           4601 non-null   float64\n",
      " 2   word_freq_all               4601 non-null   float64\n",
      " 3   word_freq_3d                4601 non-null   float64\n",
      " 4   word_freq_our               4601 non-null   float64\n",
      " 5   word_freq_over              4601 non-null   float64\n",
      " 6   word_freq_remove            4601 non-null   float64\n",
      " 7   word_freq_internet          4601 non-null   float64\n",
      " 8   word_freq_order             4601 non-null   float64\n",
      " 9   word_freq_mail              4601 non-null   float64\n",
      " 10  word_freq_receive           4601 non-null   float64\n",
      " 11  word_freq_will              4601 non-null   float64\n",
      " 12  word_freq_people            4601 non-null   float64\n",
      " 13  word_freq_report            4601 non-null   float64\n",
      " 14  word_freq_addresses         4601 non-null   float64\n",
      " 15  word_freq_free              4601 non-null   float64\n",
      " 16  word_freq_business          4601 non-null   float64\n",
      " 17  word_freq_email             4601 non-null   float64\n",
      " 18  word_freq_you               4601 non-null   float64\n",
      " 19  word_freq_credit            4601 non-null   float64\n",
      " 20  word_freq_your              4601 non-null   float64\n",
      " 21  word_freq_font              4601 non-null   float64\n",
      " 22  word_freq_000               4601 non-null   float64\n",
      " 23  word_freq_money             4601 non-null   float64\n",
      " 24  word_freq_hp                4601 non-null   float64\n",
      " 25  word_freq_hpl               4601 non-null   float64\n",
      " 26  word_freq_george            4601 non-null   float64\n",
      " 27  word_freq_650               4601 non-null   float64\n",
      " 28  word_freq_lab               4601 non-null   float64\n",
      " 29  word_freq_labs              4601 non-null   float64\n",
      " 30  word_freq_telnet            4601 non-null   float64\n",
      " 31  word_freq_857               4601 non-null   float64\n",
      " 32  word_freq_data              4601 non-null   float64\n",
      " 33  word_freq_415               4601 non-null   float64\n",
      " 34  word_freq_85                4601 non-null   float64\n",
      " 35  word_freq_technology        4601 non-null   float64\n",
      " 36  word_freq_1999              4601 non-null   float64\n",
      " 37  word_freq_parts             4601 non-null   float64\n",
      " 38  word_freq_pm                4601 non-null   float64\n",
      " 39  word_freq_direct            4601 non-null   float64\n",
      " 40  word_freq_cs                4601 non-null   float64\n",
      " 41  word_freq_meeting           4601 non-null   float64\n",
      " 42  word_freq_original          4601 non-null   float64\n",
      " 43  word_freq_project           4601 non-null   float64\n",
      " 44  word_freq_re                4601 non-null   float64\n",
      " 45  word_freq_edu               4601 non-null   float64\n",
      " 46  word_freq_table             4601 non-null   float64\n",
      " 47  word_freq_conference        4601 non-null   float64\n",
      " 48  char_freq_;                 4601 non-null   float64\n",
      " 49  char_freq_(                 4601 non-null   float64\n",
      " 50  char_freq_[                 4601 non-null   float64\n",
      " 51  char_freq_!                 4601 non-null   float64\n",
      " 52  char_freq_$                 4601 non-null   float64\n",
      " 53  char_freq_hash              4601 non-null   float64\n",
      " 54  capital_run_length_average  4601 non-null   float64\n",
      " 55  capital_run_length_longest  4601 non-null   int64  \n",
      " 56  capital_run_length_total    4601 non-null   int64  \n",
      " 57  spam                        4601 non-null   int64  \n",
      "dtypes: float64(55), int64(3)\n",
      "memory usage: 2.0 MB\n"
     ]
    }
   ],
   "source": [
    "# ensure that data type are correct\n",
    "email_rec.info()"
   ]
  },
  {
   "cell_type": "code",
   "execution_count": 7,
   "metadata": {
    "execution": {
     "iopub.execute_input": "2020-08-21T06:39:59.153961Z",
     "iopub.status.busy": "2020-08-21T06:39:59.153033Z",
     "iopub.status.idle": "2020-08-21T06:39:59.162754Z",
     "shell.execute_reply": "2020-08-21T06:39:59.162201Z"
    },
    "papermill": {
     "duration": 0.025231,
     "end_time": "2020-08-21T06:39:59.162872",
     "exception": false,
     "start_time": "2020-08-21T06:39:59.137641",
     "status": "completed"
    },
    "tags": []
   },
   "outputs": [
    {
     "data": {
      "text/plain": [
       "word_freq_make                0\n",
       "word_freq_address             0\n",
       "word_freq_all                 0\n",
       "word_freq_3d                  0\n",
       "word_freq_our                 0\n",
       "word_freq_over                0\n",
       "word_freq_remove              0\n",
       "word_freq_internet            0\n",
       "word_freq_order               0\n",
       "word_freq_mail                0\n",
       "word_freq_receive             0\n",
       "word_freq_will                0\n",
       "word_freq_people              0\n",
       "word_freq_report              0\n",
       "word_freq_addresses           0\n",
       "word_freq_free                0\n",
       "word_freq_business            0\n",
       "word_freq_email               0\n",
       "word_freq_you                 0\n",
       "word_freq_credit              0\n",
       "word_freq_your                0\n",
       "word_freq_font                0\n",
       "word_freq_000                 0\n",
       "word_freq_money               0\n",
       "word_freq_hp                  0\n",
       "word_freq_hpl                 0\n",
       "word_freq_george              0\n",
       "word_freq_650                 0\n",
       "word_freq_lab                 0\n",
       "word_freq_labs                0\n",
       "word_freq_telnet              0\n",
       "word_freq_857                 0\n",
       "word_freq_data                0\n",
       "word_freq_415                 0\n",
       "word_freq_85                  0\n",
       "word_freq_technology          0\n",
       "word_freq_1999                0\n",
       "word_freq_parts               0\n",
       "word_freq_pm                  0\n",
       "word_freq_direct              0\n",
       "word_freq_cs                  0\n",
       "word_freq_meeting             0\n",
       "word_freq_original            0\n",
       "word_freq_project             0\n",
       "word_freq_re                  0\n",
       "word_freq_edu                 0\n",
       "word_freq_table               0\n",
       "word_freq_conference          0\n",
       "char_freq_;                   0\n",
       "char_freq_(                   0\n",
       "char_freq_[                   0\n",
       "char_freq_!                   0\n",
       "char_freq_$                   0\n",
       "char_freq_hash                0\n",
       "capital_run_length_average    0\n",
       "capital_run_length_longest    0\n",
       "capital_run_length_total      0\n",
       "spam                          0\n",
       "dtype: int64"
      ]
     },
     "execution_count": 7,
     "metadata": {},
     "output_type": "execute_result"
    }
   ],
   "source": [
    "# there are no missing values in the dataset \n",
    "email_rec.isnull().sum()"
   ]
  },
  {
   "cell_type": "markdown",
   "execution_count": null,
   "metadata": {
    "papermill": {
     "duration": 0.011167,
     "end_time": "2020-08-21T06:39:59.185762",
     "exception": false,
     "start_time": "2020-08-21T06:39:59.174595",
     "status": "completed"
    },
    "tags": []
   },
   "source": [
    "Let's also look at the fraction of spam and ham emails in the dataset."
   ]
  },
  {
   "cell_type": "code",
   "execution_count": 8,
   "metadata": {
    "execution": {
     "iopub.execute_input": "2020-08-21T06:39:59.218303Z",
     "iopub.status.busy": "2020-08-21T06:39:59.217177Z",
     "iopub.status.idle": "2020-08-21T06:39:59.231142Z",
     "shell.execute_reply": "2020-08-21T06:39:59.230177Z"
    },
    "papermill": {
     "duration": 0.03376,
     "end_time": "2020-08-21T06:39:59.231316",
     "exception": false,
     "start_time": "2020-08-21T06:39:59.197556",
     "status": "completed"
    },
    "tags": []
   },
   "outputs": [
    {
     "data": {
      "text/plain": [
       "count    4601.000000\n",
       "mean        0.394045\n",
       "std         0.488698\n",
       "min         0.000000\n",
       "25%         0.000000\n",
       "50%         0.000000\n",
       "75%         1.000000\n",
       "max         1.000000\n",
       "Name: spam, dtype: float64"
      ]
     },
     "execution_count": 8,
     "metadata": {},
     "output_type": "execute_result"
    }
   ],
   "source": [
    "# look at fraction of spam emails \n",
    "# 39.4% spams\n",
    "email_rec['spam'].describe()"
   ]
  },
  {
   "cell_type": "markdown",
   "execution_count": null,
   "metadata": {
    "papermill": {
     "duration": 0.013531,
     "end_time": "2020-08-21T06:39:59.257819",
     "exception": false,
     "start_time": "2020-08-21T06:39:59.244288",
     "status": "completed"
    },
    "tags": []
   },
   "source": [
    "## Data Preparation\n",
    "\n",
    "Let's now conduct some prelimininary data preparation steps, i.e. rescaling the variables, splitting into train and test etc. To understand why rescaling is required, let's print the summary stats of all columns - you'll notice that the columns at the end (capital_run_length_longest, capital_run_length_total etc.) have much higher values (means = 52, 283 etc.) than most other columns which represent fraction of word occurrences (no. of times word appears in email/total no. of words in email).\n"
   ]
  },
  {
   "cell_type": "code",
   "execution_count": 9,
   "metadata": {
    "execution": {
     "iopub.execute_input": "2020-08-21T06:39:59.301291Z",
     "iopub.status.busy": "2020-08-21T06:39:59.300509Z",
     "iopub.status.idle": "2020-08-21T06:39:59.454441Z",
     "shell.execute_reply": "2020-08-21T06:39:59.453690Z"
    },
    "papermill": {
     "duration": 0.181747,
     "end_time": "2020-08-21T06:39:59.454576",
     "exception": false,
     "start_time": "2020-08-21T06:39:59.272829",
     "status": "completed"
    },
    "tags": []
   },
   "outputs": [
    {
     "data": {
      "text/html": [
       "<div>\n",
       "<style scoped>\n",
       "    .dataframe tbody tr th:only-of-type {\n",
       "        vertical-align: middle;\n",
       "    }\n",
       "\n",
       "    .dataframe tbody tr th {\n",
       "        vertical-align: top;\n",
       "    }\n",
       "\n",
       "    .dataframe thead th {\n",
       "        text-align: right;\n",
       "    }\n",
       "</style>\n",
       "<table border=\"1\" class=\"dataframe\">\n",
       "  <thead>\n",
       "    <tr style=\"text-align: right;\">\n",
       "      <th></th>\n",
       "      <th>word_freq_make</th>\n",
       "      <th>word_freq_address</th>\n",
       "      <th>word_freq_all</th>\n",
       "      <th>word_freq_3d</th>\n",
       "      <th>word_freq_our</th>\n",
       "      <th>word_freq_over</th>\n",
       "      <th>word_freq_remove</th>\n",
       "      <th>word_freq_internet</th>\n",
       "      <th>word_freq_order</th>\n",
       "      <th>word_freq_mail</th>\n",
       "      <th>...</th>\n",
       "      <th>char_freq_;</th>\n",
       "      <th>char_freq_(</th>\n",
       "      <th>char_freq_[</th>\n",
       "      <th>char_freq_!</th>\n",
       "      <th>char_freq_$</th>\n",
       "      <th>char_freq_hash</th>\n",
       "      <th>capital_run_length_average</th>\n",
       "      <th>capital_run_length_longest</th>\n",
       "      <th>capital_run_length_total</th>\n",
       "      <th>spam</th>\n",
       "    </tr>\n",
       "  </thead>\n",
       "  <tbody>\n",
       "    <tr>\n",
       "      <th>count</th>\n",
       "      <td>4601.000000</td>\n",
       "      <td>4601.000000</td>\n",
       "      <td>4601.000000</td>\n",
       "      <td>4601.000000</td>\n",
       "      <td>4601.000000</td>\n",
       "      <td>4601.000000</td>\n",
       "      <td>4601.000000</td>\n",
       "      <td>4601.000000</td>\n",
       "      <td>4601.000000</td>\n",
       "      <td>4601.000000</td>\n",
       "      <td>...</td>\n",
       "      <td>4601.000000</td>\n",
       "      <td>4601.000000</td>\n",
       "      <td>4601.000000</td>\n",
       "      <td>4601.000000</td>\n",
       "      <td>4601.000000</td>\n",
       "      <td>4601.000000</td>\n",
       "      <td>4601.000000</td>\n",
       "      <td>4601.000000</td>\n",
       "      <td>4601.000000</td>\n",
       "      <td>4601.000000</td>\n",
       "    </tr>\n",
       "    <tr>\n",
       "      <th>mean</th>\n",
       "      <td>0.104553</td>\n",
       "      <td>0.213015</td>\n",
       "      <td>0.280656</td>\n",
       "      <td>0.065425</td>\n",
       "      <td>0.312223</td>\n",
       "      <td>0.095901</td>\n",
       "      <td>0.114208</td>\n",
       "      <td>0.105295</td>\n",
       "      <td>0.090067</td>\n",
       "      <td>0.239413</td>\n",
       "      <td>...</td>\n",
       "      <td>0.038575</td>\n",
       "      <td>0.139030</td>\n",
       "      <td>0.016976</td>\n",
       "      <td>0.269071</td>\n",
       "      <td>0.075811</td>\n",
       "      <td>0.044238</td>\n",
       "      <td>5.191515</td>\n",
       "      <td>52.172789</td>\n",
       "      <td>283.289285</td>\n",
       "      <td>0.394045</td>\n",
       "    </tr>\n",
       "    <tr>\n",
       "      <th>std</th>\n",
       "      <td>0.305358</td>\n",
       "      <td>1.290575</td>\n",
       "      <td>0.504143</td>\n",
       "      <td>1.395151</td>\n",
       "      <td>0.672513</td>\n",
       "      <td>0.273824</td>\n",
       "      <td>0.391441</td>\n",
       "      <td>0.401071</td>\n",
       "      <td>0.278616</td>\n",
       "      <td>0.644755</td>\n",
       "      <td>...</td>\n",
       "      <td>0.243471</td>\n",
       "      <td>0.270355</td>\n",
       "      <td>0.109394</td>\n",
       "      <td>0.815672</td>\n",
       "      <td>0.245882</td>\n",
       "      <td>0.429342</td>\n",
       "      <td>31.729449</td>\n",
       "      <td>194.891310</td>\n",
       "      <td>606.347851</td>\n",
       "      <td>0.488698</td>\n",
       "    </tr>\n",
       "    <tr>\n",
       "      <th>min</th>\n",
       "      <td>0.000000</td>\n",
       "      <td>0.000000</td>\n",
       "      <td>0.000000</td>\n",
       "      <td>0.000000</td>\n",
       "      <td>0.000000</td>\n",
       "      <td>0.000000</td>\n",
       "      <td>0.000000</td>\n",
       "      <td>0.000000</td>\n",
       "      <td>0.000000</td>\n",
       "      <td>0.000000</td>\n",
       "      <td>...</td>\n",
       "      <td>0.000000</td>\n",
       "      <td>0.000000</td>\n",
       "      <td>0.000000</td>\n",
       "      <td>0.000000</td>\n",
       "      <td>0.000000</td>\n",
       "      <td>0.000000</td>\n",
       "      <td>1.000000</td>\n",
       "      <td>1.000000</td>\n",
       "      <td>1.000000</td>\n",
       "      <td>0.000000</td>\n",
       "    </tr>\n",
       "    <tr>\n",
       "      <th>25%</th>\n",
       "      <td>0.000000</td>\n",
       "      <td>0.000000</td>\n",
       "      <td>0.000000</td>\n",
       "      <td>0.000000</td>\n",
       "      <td>0.000000</td>\n",
       "      <td>0.000000</td>\n",
       "      <td>0.000000</td>\n",
       "      <td>0.000000</td>\n",
       "      <td>0.000000</td>\n",
       "      <td>0.000000</td>\n",
       "      <td>...</td>\n",
       "      <td>0.000000</td>\n",
       "      <td>0.000000</td>\n",
       "      <td>0.000000</td>\n",
       "      <td>0.000000</td>\n",
       "      <td>0.000000</td>\n",
       "      <td>0.000000</td>\n",
       "      <td>1.588000</td>\n",
       "      <td>6.000000</td>\n",
       "      <td>35.000000</td>\n",
       "      <td>0.000000</td>\n",
       "    </tr>\n",
       "    <tr>\n",
       "      <th>50%</th>\n",
       "      <td>0.000000</td>\n",
       "      <td>0.000000</td>\n",
       "      <td>0.000000</td>\n",
       "      <td>0.000000</td>\n",
       "      <td>0.000000</td>\n",
       "      <td>0.000000</td>\n",
       "      <td>0.000000</td>\n",
       "      <td>0.000000</td>\n",
       "      <td>0.000000</td>\n",
       "      <td>0.000000</td>\n",
       "      <td>...</td>\n",
       "      <td>0.000000</td>\n",
       "      <td>0.065000</td>\n",
       "      <td>0.000000</td>\n",
       "      <td>0.000000</td>\n",
       "      <td>0.000000</td>\n",
       "      <td>0.000000</td>\n",
       "      <td>2.276000</td>\n",
       "      <td>15.000000</td>\n",
       "      <td>95.000000</td>\n",
       "      <td>0.000000</td>\n",
       "    </tr>\n",
       "    <tr>\n",
       "      <th>75%</th>\n",
       "      <td>0.000000</td>\n",
       "      <td>0.000000</td>\n",
       "      <td>0.420000</td>\n",
       "      <td>0.000000</td>\n",
       "      <td>0.380000</td>\n",
       "      <td>0.000000</td>\n",
       "      <td>0.000000</td>\n",
       "      <td>0.000000</td>\n",
       "      <td>0.000000</td>\n",
       "      <td>0.160000</td>\n",
       "      <td>...</td>\n",
       "      <td>0.000000</td>\n",
       "      <td>0.188000</td>\n",
       "      <td>0.000000</td>\n",
       "      <td>0.315000</td>\n",
       "      <td>0.052000</td>\n",
       "      <td>0.000000</td>\n",
       "      <td>3.706000</td>\n",
       "      <td>43.000000</td>\n",
       "      <td>266.000000</td>\n",
       "      <td>1.000000</td>\n",
       "    </tr>\n",
       "    <tr>\n",
       "      <th>max</th>\n",
       "      <td>4.540000</td>\n",
       "      <td>14.280000</td>\n",
       "      <td>5.100000</td>\n",
       "      <td>42.810000</td>\n",
       "      <td>10.000000</td>\n",
       "      <td>5.880000</td>\n",
       "      <td>7.270000</td>\n",
       "      <td>11.110000</td>\n",
       "      <td>5.260000</td>\n",
       "      <td>18.180000</td>\n",
       "      <td>...</td>\n",
       "      <td>4.385000</td>\n",
       "      <td>9.752000</td>\n",
       "      <td>4.081000</td>\n",
       "      <td>32.478000</td>\n",
       "      <td>6.003000</td>\n",
       "      <td>19.829000</td>\n",
       "      <td>1102.500000</td>\n",
       "      <td>9989.000000</td>\n",
       "      <td>15841.000000</td>\n",
       "      <td>1.000000</td>\n",
       "    </tr>\n",
       "  </tbody>\n",
       "</table>\n",
       "<p>8 rows × 58 columns</p>\n",
       "</div>"
      ],
      "text/plain": [
       "       word_freq_make  word_freq_address  word_freq_all  word_freq_3d  \\\n",
       "count     4601.000000        4601.000000    4601.000000   4601.000000   \n",
       "mean         0.104553           0.213015       0.280656      0.065425   \n",
       "std          0.305358           1.290575       0.504143      1.395151   \n",
       "min          0.000000           0.000000       0.000000      0.000000   \n",
       "25%          0.000000           0.000000       0.000000      0.000000   \n",
       "50%          0.000000           0.000000       0.000000      0.000000   \n",
       "75%          0.000000           0.000000       0.420000      0.000000   \n",
       "max          4.540000          14.280000       5.100000     42.810000   \n",
       "\n",
       "       word_freq_our  word_freq_over  word_freq_remove  word_freq_internet  \\\n",
       "count    4601.000000     4601.000000       4601.000000         4601.000000   \n",
       "mean        0.312223        0.095901          0.114208            0.105295   \n",
       "std         0.672513        0.273824          0.391441            0.401071   \n",
       "min         0.000000        0.000000          0.000000            0.000000   \n",
       "25%         0.000000        0.000000          0.000000            0.000000   \n",
       "50%         0.000000        0.000000          0.000000            0.000000   \n",
       "75%         0.380000        0.000000          0.000000            0.000000   \n",
       "max        10.000000        5.880000          7.270000           11.110000   \n",
       "\n",
       "       word_freq_order  word_freq_mail  ...  char_freq_;  char_freq_(  \\\n",
       "count      4601.000000     4601.000000  ...  4601.000000  4601.000000   \n",
       "mean          0.090067        0.239413  ...     0.038575     0.139030   \n",
       "std           0.278616        0.644755  ...     0.243471     0.270355   \n",
       "min           0.000000        0.000000  ...     0.000000     0.000000   \n",
       "25%           0.000000        0.000000  ...     0.000000     0.000000   \n",
       "50%           0.000000        0.000000  ...     0.000000     0.065000   \n",
       "75%           0.000000        0.160000  ...     0.000000     0.188000   \n",
       "max           5.260000       18.180000  ...     4.385000     9.752000   \n",
       "\n",
       "       char_freq_[  char_freq_!  char_freq_$  char_freq_hash  \\\n",
       "count  4601.000000  4601.000000  4601.000000     4601.000000   \n",
       "mean      0.016976     0.269071     0.075811        0.044238   \n",
       "std       0.109394     0.815672     0.245882        0.429342   \n",
       "min       0.000000     0.000000     0.000000        0.000000   \n",
       "25%       0.000000     0.000000     0.000000        0.000000   \n",
       "50%       0.000000     0.000000     0.000000        0.000000   \n",
       "75%       0.000000     0.315000     0.052000        0.000000   \n",
       "max       4.081000    32.478000     6.003000       19.829000   \n",
       "\n",
       "       capital_run_length_average  capital_run_length_longest  \\\n",
       "count                 4601.000000                 4601.000000   \n",
       "mean                     5.191515                   52.172789   \n",
       "std                     31.729449                  194.891310   \n",
       "min                      1.000000                    1.000000   \n",
       "25%                      1.588000                    6.000000   \n",
       "50%                      2.276000                   15.000000   \n",
       "75%                      3.706000                   43.000000   \n",
       "max                   1102.500000                 9989.000000   \n",
       "\n",
       "       capital_run_length_total         spam  \n",
       "count               4601.000000  4601.000000  \n",
       "mean                 283.289285     0.394045  \n",
       "std                  606.347851     0.488698  \n",
       "min                    1.000000     0.000000  \n",
       "25%                   35.000000     0.000000  \n",
       "50%                   95.000000     0.000000  \n",
       "75%                  266.000000     1.000000  \n",
       "max                15841.000000     1.000000  \n",
       "\n",
       "[8 rows x 58 columns]"
      ]
     },
     "execution_count": 9,
     "metadata": {},
     "output_type": "execute_result"
    }
   ],
   "source": [
    "email_rec.describe()"
   ]
  },
  {
   "cell_type": "code",
   "execution_count": 10,
   "metadata": {
    "execution": {
     "iopub.execute_input": "2020-08-21T06:39:59.486521Z",
     "iopub.status.busy": "2020-08-21T06:39:59.485810Z",
     "iopub.status.idle": "2020-08-21T06:39:59.488799Z",
     "shell.execute_reply": "2020-08-21T06:39:59.488203Z"
    },
    "papermill": {
     "duration": 0.02165,
     "end_time": "2020-08-21T06:39:59.488920",
     "exception": false,
     "start_time": "2020-08-21T06:39:59.467270",
     "status": "completed"
    },
    "tags": []
   },
   "outputs": [],
   "source": [
    "# splitting into X and y\n",
    "X = email_rec.drop(\"spam\", axis = 1)\n",
    "y = email_rec.spam.values.astype(int)"
   ]
  },
  {
   "cell_type": "code",
   "execution_count": 11,
   "metadata": {
    "execution": {
     "iopub.execute_input": "2020-08-21T06:39:59.522301Z",
     "iopub.status.busy": "2020-08-21T06:39:59.521570Z",
     "iopub.status.idle": "2020-08-21T06:39:59.535573Z",
     "shell.execute_reply": "2020-08-21T06:39:59.534785Z"
    },
    "papermill": {
     "duration": 0.033808,
     "end_time": "2020-08-21T06:39:59.535714",
     "exception": false,
     "start_time": "2020-08-21T06:39:59.501906",
     "status": "completed"
    },
    "tags": []
   },
   "outputs": [],
   "source": [
    "# scaling the features\n",
    "# note that the scale function standardises each column, i.e.\n",
    "# x = x-mean(x)/std(x)\n",
    "\n",
    "from sklearn.preprocessing import scale\n",
    "X = scale(X)"
   ]
  },
  {
   "cell_type": "code",
   "execution_count": 12,
   "metadata": {
    "execution": {
     "iopub.execute_input": "2020-08-21T06:39:59.565919Z",
     "iopub.status.busy": "2020-08-21T06:39:59.565195Z",
     "iopub.status.idle": "2020-08-21T06:39:59.570172Z",
     "shell.execute_reply": "2020-08-21T06:39:59.569514Z"
    },
    "papermill": {
     "duration": 0.022434,
     "end_time": "2020-08-21T06:39:59.570291",
     "exception": false,
     "start_time": "2020-08-21T06:39:59.547857",
     "status": "completed"
    },
    "tags": []
   },
   "outputs": [],
   "source": [
    "# split into train and test\n",
    "X_train, X_test, y_train, y_test = train_test_split(X, y, test_size = 0.3, random_state = 4)"
   ]
  },
  {
   "cell_type": "code",
   "execution_count": 13,
   "metadata": {
    "execution": {
     "iopub.execute_input": "2020-08-21T06:39:59.600189Z",
     "iopub.status.busy": "2020-08-21T06:39:59.599530Z",
     "iopub.status.idle": "2020-08-21T06:39:59.604216Z",
     "shell.execute_reply": "2020-08-21T06:39:59.603582Z"
    },
    "papermill": {
     "duration": 0.021833,
     "end_time": "2020-08-21T06:39:59.604332",
     "exception": false,
     "start_time": "2020-08-21T06:39:59.582499",
     "status": "completed"
    },
    "tags": []
   },
   "outputs": [
    {
     "name": "stdout",
     "output_type": "stream",
     "text": [
      "0.3978260869565217\n",
      "0.38522809558291093\n"
     ]
    }
   ],
   "source": [
    "# confirm that splitting also has similar distribution of spam and ham \n",
    "# emails\n",
    "print(y_train.mean())\n",
    "print(y_test.mean())"
   ]
  },
  {
   "cell_type": "markdown",
   "execution_count": null,
   "metadata": {
    "papermill": {
     "duration": 0.012012,
     "end_time": "2020-08-21T06:39:59.628786",
     "exception": false,
     "start_time": "2020-08-21T06:39:59.616774",
     "status": "completed"
    },
    "tags": []
   },
   "source": [
    "## Model Building\n",
    "\n",
    "Let's build a linear SVM mode now. The ```SVC()``` class does that in sklearn. We highly recommend reading the documentation at least once.\n"
   ]
  },
  {
   "cell_type": "code",
   "execution_count": 14,
   "metadata": {
    "execution": {
     "iopub.execute_input": "2020-08-21T06:39:59.659120Z",
     "iopub.status.busy": "2020-08-21T06:39:59.658376Z",
     "iopub.status.idle": "2020-08-21T06:40:00.205238Z",
     "shell.execute_reply": "2020-08-21T06:40:00.204290Z"
    },
    "papermill": {
     "duration": 0.564339,
     "end_time": "2020-08-21T06:40:00.205411",
     "exception": false,
     "start_time": "2020-08-21T06:39:59.641072",
     "status": "completed"
    },
    "tags": []
   },
   "outputs": [],
   "source": [
    "# Model building\n",
    "\n",
    "# instantiate an object of class SVC()\n",
    "# note that we are using cost C=1\n",
    "model = SVC(C = 1)\n",
    "\n",
    "# fit\n",
    "model.fit(X_train, y_train)\n",
    "\n",
    "# predict\n",
    "y_pred = model.predict(X_test)"
   ]
  },
  {
   "cell_type": "code",
   "execution_count": 15,
   "metadata": {
    "execution": {
     "iopub.execute_input": "2020-08-21T06:40:00.241628Z",
     "iopub.status.busy": "2020-08-21T06:40:00.240957Z",
     "iopub.status.idle": "2020-08-21T06:40:00.248039Z",
     "shell.execute_reply": "2020-08-21T06:40:00.248530Z"
    },
    "papermill": {
     "duration": 0.027372,
     "end_time": "2020-08-21T06:40:00.248688",
     "exception": false,
     "start_time": "2020-08-21T06:40:00.221316",
     "status": "completed"
    },
    "tags": []
   },
   "outputs": [
    {
     "data": {
      "text/plain": [
       "array([[811,  38],\n",
       "       [ 61, 471]])"
      ]
     },
     "execution_count": 15,
     "metadata": {},
     "output_type": "execute_result"
    }
   ],
   "source": [
    "# Evaluate the model using confusion matrix \n",
    "from sklearn import metrics\n",
    "metrics.confusion_matrix(y_true=y_test, y_pred=y_pred)"
   ]
  },
  {
   "cell_type": "code",
   "execution_count": 16,
   "metadata": {
    "execution": {
     "iopub.execute_input": "2020-08-21T06:40:00.279849Z",
     "iopub.status.busy": "2020-08-21T06:40:00.278837Z",
     "iopub.status.idle": "2020-08-21T06:40:00.287943Z",
     "shell.execute_reply": "2020-08-21T06:40:00.287086Z"
    },
    "papermill": {
     "duration": 0.027018,
     "end_time": "2020-08-21T06:40:00.288100",
     "exception": false,
     "start_time": "2020-08-21T06:40:00.261082",
     "status": "completed"
    },
    "tags": []
   },
   "outputs": [
    {
     "name": "stdout",
     "output_type": "stream",
     "text": [
      "accuracy 0.9283128167994207\n",
      "precision 0.925343811394892\n",
      "recall 0.8853383458646616\n"
     ]
    }
   ],
   "source": [
    "# print other metrics\n",
    "\n",
    "# accuracy\n",
    "print(\"accuracy\", metrics.accuracy_score(y_test, y_pred))\n",
    "\n",
    "# precision\n",
    "print(\"precision\", metrics.precision_score(y_test, y_pred))\n",
    "\n",
    "# recall/sensitivity\n",
    "print(\"recall\", metrics.recall_score(y_test, y_pred))\n"
   ]
  },
  {
   "cell_type": "code",
   "execution_count": 17,
   "metadata": {
    "execution": {
     "iopub.execute_input": "2020-08-21T06:40:00.320467Z",
     "iopub.status.busy": "2020-08-21T06:40:00.319592Z",
     "iopub.status.idle": "2020-08-21T06:40:00.323295Z",
     "shell.execute_reply": "2020-08-21T06:40:00.322672Z"
    },
    "papermill": {
     "duration": 0.021569,
     "end_time": "2020-08-21T06:40:00.323469",
     "exception": false,
     "start_time": "2020-08-21T06:40:00.301900",
     "status": "completed"
    },
    "tags": []
   },
   "outputs": [
    {
     "name": "stdout",
     "output_type": "stream",
     "text": [
      "specificity 0.9552414605418139\n"
     ]
    }
   ],
   "source": [
    "# specificity (% of hams correctly classified)\n",
    "print(\"specificity\", 811/(811+38))"
   ]
  },
  {
   "cell_type": "markdown",
   "execution_count": null,
   "metadata": {
    "papermill": {
     "duration": 0.01242,
     "end_time": "2020-08-21T06:40:00.349202",
     "exception": false,
     "start_time": "2020-08-21T06:40:00.336782",
     "status": "completed"
    },
    "tags": []
   },
   "source": [
    "The SVM we have built so far gives decently good results - an accuracy of 92%, sensitivity/recall (TNR) of 88%. \n",
    "\n",
    "### Interpretation of Results\n",
    "\n",
    "In the confusion matrix, the elements at (0, 0) and (1,1) correspond to the more frequently occurring class, i.e. ham emails. Thus, it implies that:\n",
    "- 92% of all emails are classified correctly\n",
    "- 88.5% of spams are identified correctly (sensitivity/recall)\n",
    "- Specificity, or % of hams classified correctly, is 95%\n",
    "\n",
    "\n",
    "\n",
    "## Hyperparameter Tuning"
   ]
  },
  {
   "cell_type": "markdown",
   "execution_count": null,
   "metadata": {
    "papermill": {
     "duration": 0.012312,
     "end_time": "2020-08-21T06:40:00.374097",
     "exception": false,
     "start_time": "2020-08-21T06:40:00.361785",
     "status": "completed"
    },
    "tags": []
   },
   "source": [
    "### K-Fold Cross Validation\n",
    "\n",
    "Let's first run a simple k-fold cross validation to get a sense of the **average metrics** as computed over multiple *folds*. the easiest way to do cross-validation is to use the ```cross_val_score()``` function.\n",
    "\n"
   ]
  },
  {
   "cell_type": "code",
   "execution_count": 18,
   "metadata": {
    "execution": {
     "iopub.execute_input": "2020-08-21T06:40:00.406767Z",
     "iopub.status.busy": "2020-08-21T06:40:00.405422Z",
     "iopub.status.idle": "2020-08-21T06:40:00.409033Z",
     "shell.execute_reply": "2020-08-21T06:40:00.407882Z"
    },
    "papermill": {
     "duration": 0.022334,
     "end_time": "2020-08-21T06:40:00.409178",
     "exception": false,
     "start_time": "2020-08-21T06:40:00.386844",
     "status": "completed"
    },
    "tags": []
   },
   "outputs": [],
   "source": [
    "# creating a KFold object with 5 splits \n",
    "folds = KFold(n_splits = 5, shuffle = True, random_state = 4)\n",
    "\n",
    "# instantiating a model with cost=1\n",
    "model = SVC(C = 1)"
   ]
  },
  {
   "cell_type": "code",
   "execution_count": 19,
   "metadata": {
    "execution": {
     "iopub.execute_input": "2020-08-21T06:40:00.447842Z",
     "iopub.status.busy": "2020-08-21T06:40:00.446728Z",
     "iopub.status.idle": "2020-08-21T06:40:02.166426Z",
     "shell.execute_reply": "2020-08-21T06:40:02.165692Z"
    },
    "papermill": {
     "duration": 1.740654,
     "end_time": "2020-08-21T06:40:02.166556",
     "exception": false,
     "start_time": "2020-08-21T06:40:00.425902",
     "status": "completed"
    },
    "tags": []
   },
   "outputs": [],
   "source": [
    "# computing the cross-validation scores \n",
    "# note that the argument cv takes the 'folds' object, and\n",
    "# we have specified 'accuracy' as the metric\n",
    "\n",
    "cv_results = cross_val_score(model, X_train, y_train, cv = folds, scoring = 'accuracy') "
   ]
  },
  {
   "cell_type": "code",
   "execution_count": 20,
   "metadata": {
    "execution": {
     "iopub.execute_input": "2020-08-21T06:40:02.203575Z",
     "iopub.status.busy": "2020-08-21T06:40:02.202589Z",
     "iopub.status.idle": "2020-08-21T06:40:02.208490Z",
     "shell.execute_reply": "2020-08-21T06:40:02.206508Z"
    },
    "papermill": {
     "duration": 0.02924,
     "end_time": "2020-08-21T06:40:02.208820",
     "exception": false,
     "start_time": "2020-08-21T06:40:02.179580",
     "status": "completed"
    },
    "tags": []
   },
   "outputs": [
    {
     "name": "stdout",
     "output_type": "stream",
     "text": [
      "[0.91770186 0.94099379 0.92080745 0.93012422 0.93944099]\n",
      "mean accuracy = 0.9298136645962731\n"
     ]
    }
   ],
   "source": [
    "# print 5 accuracies obtained from the 5 folds\n",
    "print(cv_results)\n",
    "print(\"mean accuracy = {}\".format(cv_results.mean()))"
   ]
  },
  {
   "cell_type": "markdown",
   "execution_count": null,
   "metadata": {
    "papermill": {
     "duration": 0.012573,
     "end_time": "2020-08-21T06:40:02.236373",
     "exception": false,
     "start_time": "2020-08-21T06:40:02.223800",
     "status": "completed"
    },
    "tags": []
   },
   "source": [
    "## Grid Search to Find Optimal Hyperparameter C\n",
    "\n",
    "K-fold CV helps us compute average metrics over multiple folds, and that is the best indication of the 'test accuracy/other metric scores' we can have. \n",
    "\n",
    "But we want to use CV to compute the optimal values of hyperparameters (in this case, the cost C is a hyperparameter). This is done using the ```GridSearchCV()``` method, which computes metrics (such as accuracy, recall etc.) \n",
    "\n",
    "In this case, we have only one hyperparameter, though you can have multiple, such as C and gamma in non-linear SVMs. In that case, you need to search through a *grid* of multiple values of C and gamma to find the optimal combination, and hence the name GridSearchCV."
   ]
  },
  {
   "cell_type": "code",
   "execution_count": 21,
   "metadata": {
    "execution": {
     "iopub.execute_input": "2020-08-21T06:40:02.268906Z",
     "iopub.status.busy": "2020-08-21T06:40:02.268058Z",
     "iopub.status.idle": "2020-08-21T06:40:02.271864Z",
     "shell.execute_reply": "2020-08-21T06:40:02.271214Z"
    },
    "papermill": {
     "duration": 0.022735,
     "end_time": "2020-08-21T06:40:02.272020",
     "exception": false,
     "start_time": "2020-08-21T06:40:02.249285",
     "status": "completed"
    },
    "tags": []
   },
   "outputs": [],
   "source": [
    "# specify range of parameters (C) as a list\n",
    "params = {\"C\": [0.1, 1, 10, 100, 1000]}\n",
    "\n",
    "model = SVC()\n",
    "\n",
    "# set up grid search scheme\n",
    "# note that we are still using the 5 fold CV scheme we set up earlier\n",
    "model_cv = GridSearchCV(estimator = model, param_grid = params, \n",
    "                        scoring= 'accuracy', \n",
    "                        cv = folds, \n",
    "                        verbose = 1,\n",
    "                       return_train_score=True)      "
   ]
  },
  {
   "cell_type": "code",
   "execution_count": 22,
   "metadata": {
    "execution": {
     "iopub.execute_input": "2020-08-21T06:40:02.309115Z",
     "iopub.status.busy": "2020-08-21T06:40:02.307907Z",
     "iopub.status.idle": "2020-08-21T06:40:16.709741Z",
     "shell.execute_reply": "2020-08-21T06:40:16.709020Z"
    },
    "papermill": {
     "duration": 14.422063,
     "end_time": "2020-08-21T06:40:16.709866",
     "exception": false,
     "start_time": "2020-08-21T06:40:02.287803",
     "status": "completed"
    },
    "tags": []
   },
   "outputs": [
    {
     "name": "stdout",
     "output_type": "stream",
     "text": [
      "Fitting 5 folds for each of 5 candidates, totalling 25 fits\n"
     ]
    },
    {
     "name": "stderr",
     "output_type": "stream",
     "text": [
      "[Parallel(n_jobs=1)]: Using backend SequentialBackend with 1 concurrent workers.\n",
      "[Parallel(n_jobs=1)]: Done  25 out of  25 | elapsed:   14.0s finished\n"
     ]
    },
    {
     "data": {
      "text/plain": [
       "GridSearchCV(cv=KFold(n_splits=5, random_state=4, shuffle=True),\n",
       "             estimator=SVC(), param_grid={'C': [0.1, 1, 10, 100, 1000]},\n",
       "             return_train_score=True, scoring='accuracy', verbose=1)"
      ]
     },
     "execution_count": 22,
     "metadata": {},
     "output_type": "execute_result"
    }
   ],
   "source": [
    "# fit the model - it will fit 5 folds across all values of C\n",
    "model_cv.fit(X_train, y_train)  "
   ]
  },
  {
   "cell_type": "code",
   "execution_count": 23,
   "metadata": {
    "execution": {
     "iopub.execute_input": "2020-08-21T06:40:16.768461Z",
     "iopub.status.busy": "2020-08-21T06:40:16.767101Z",
     "iopub.status.idle": "2020-08-21T06:40:16.772507Z",
     "shell.execute_reply": "2020-08-21T06:40:16.771827Z"
    },
    "papermill": {
     "duration": 0.049249,
     "end_time": "2020-08-21T06:40:16.772641",
     "exception": false,
     "start_time": "2020-08-21T06:40:16.723392",
     "status": "completed"
    },
    "tags": []
   },
   "outputs": [
    {
     "data": {
      "text/html": [
       "<div>\n",
       "<style scoped>\n",
       "    .dataframe tbody tr th:only-of-type {\n",
       "        vertical-align: middle;\n",
       "    }\n",
       "\n",
       "    .dataframe tbody tr th {\n",
       "        vertical-align: top;\n",
       "    }\n",
       "\n",
       "    .dataframe thead th {\n",
       "        text-align: right;\n",
       "    }\n",
       "</style>\n",
       "<table border=\"1\" class=\"dataframe\">\n",
       "  <thead>\n",
       "    <tr style=\"text-align: right;\">\n",
       "      <th></th>\n",
       "      <th>mean_fit_time</th>\n",
       "      <th>std_fit_time</th>\n",
       "      <th>mean_score_time</th>\n",
       "      <th>std_score_time</th>\n",
       "      <th>param_C</th>\n",
       "      <th>params</th>\n",
       "      <th>split0_test_score</th>\n",
       "      <th>split1_test_score</th>\n",
       "      <th>split2_test_score</th>\n",
       "      <th>split3_test_score</th>\n",
       "      <th>...</th>\n",
       "      <th>mean_test_score</th>\n",
       "      <th>std_test_score</th>\n",
       "      <th>rank_test_score</th>\n",
       "      <th>split0_train_score</th>\n",
       "      <th>split1_train_score</th>\n",
       "      <th>split2_train_score</th>\n",
       "      <th>split3_train_score</th>\n",
       "      <th>split4_train_score</th>\n",
       "      <th>mean_train_score</th>\n",
       "      <th>std_train_score</th>\n",
       "    </tr>\n",
       "  </thead>\n",
       "  <tbody>\n",
       "    <tr>\n",
       "      <th>0</th>\n",
       "      <td>0.428596</td>\n",
       "      <td>0.005226</td>\n",
       "      <td>0.084937</td>\n",
       "      <td>0.002445</td>\n",
       "      <td>0.1</td>\n",
       "      <td>{'C': 0.1}</td>\n",
       "      <td>0.895963</td>\n",
       "      <td>0.902174</td>\n",
       "      <td>0.906832</td>\n",
       "      <td>0.902174</td>\n",
       "      <td>...</td>\n",
       "      <td>0.905280</td>\n",
       "      <td>0.007795</td>\n",
       "      <td>5</td>\n",
       "      <td>0.912655</td>\n",
       "      <td>0.911879</td>\n",
       "      <td>0.912267</td>\n",
       "      <td>0.911102</td>\n",
       "      <td>0.906056</td>\n",
       "      <td>0.910792</td>\n",
       "      <td>0.002423</td>\n",
       "    </tr>\n",
       "    <tr>\n",
       "      <th>1</th>\n",
       "      <td>0.288586</td>\n",
       "      <td>0.009971</td>\n",
       "      <td>0.053170</td>\n",
       "      <td>0.002648</td>\n",
       "      <td>1</td>\n",
       "      <td>{'C': 1}</td>\n",
       "      <td>0.917702</td>\n",
       "      <td>0.940994</td>\n",
       "      <td>0.920807</td>\n",
       "      <td>0.930124</td>\n",
       "      <td>...</td>\n",
       "      <td>0.929814</td>\n",
       "      <td>0.009440</td>\n",
       "      <td>2</td>\n",
       "      <td>0.951475</td>\n",
       "      <td>0.946040</td>\n",
       "      <td>0.949922</td>\n",
       "      <td>0.946040</td>\n",
       "      <td>0.945652</td>\n",
       "      <td>0.947826</td>\n",
       "      <td>0.002401</td>\n",
       "    </tr>\n",
       "    <tr>\n",
       "      <th>2</th>\n",
       "      <td>0.246989</td>\n",
       "      <td>0.010275</td>\n",
       "      <td>0.041036</td>\n",
       "      <td>0.001621</td>\n",
       "      <td>10</td>\n",
       "      <td>{'C': 10}</td>\n",
       "      <td>0.908385</td>\n",
       "      <td>0.944099</td>\n",
       "      <td>0.933230</td>\n",
       "      <td>0.928571</td>\n",
       "      <td>...</td>\n",
       "      <td>0.930745</td>\n",
       "      <td>0.012368</td>\n",
       "      <td>1</td>\n",
       "      <td>0.975543</td>\n",
       "      <td>0.970885</td>\n",
       "      <td>0.973991</td>\n",
       "      <td>0.968944</td>\n",
       "      <td>0.971273</td>\n",
       "      <td>0.972127</td>\n",
       "      <td>0.002347</td>\n",
       "    </tr>\n",
       "    <tr>\n",
       "      <th>3</th>\n",
       "      <td>0.265274</td>\n",
       "      <td>0.015770</td>\n",
       "      <td>0.036839</td>\n",
       "      <td>0.001905</td>\n",
       "      <td>100</td>\n",
       "      <td>{'C': 100}</td>\n",
       "      <td>0.913043</td>\n",
       "      <td>0.927019</td>\n",
       "      <td>0.936335</td>\n",
       "      <td>0.930124</td>\n",
       "      <td>...</td>\n",
       "      <td>0.928571</td>\n",
       "      <td>0.008562</td>\n",
       "      <td>3</td>\n",
       "      <td>0.989519</td>\n",
       "      <td>0.989907</td>\n",
       "      <td>0.989907</td>\n",
       "      <td>0.988354</td>\n",
       "      <td>0.987966</td>\n",
       "      <td>0.989130</td>\n",
       "      <td>0.000814</td>\n",
       "    </tr>\n",
       "    <tr>\n",
       "      <th>4</th>\n",
       "      <td>0.329601</td>\n",
       "      <td>0.038915</td>\n",
       "      <td>0.034055</td>\n",
       "      <td>0.003134</td>\n",
       "      <td>1000</td>\n",
       "      <td>{'C': 1000}</td>\n",
       "      <td>0.908385</td>\n",
       "      <td>0.931677</td>\n",
       "      <td>0.922360</td>\n",
       "      <td>0.919255</td>\n",
       "      <td>...</td>\n",
       "      <td>0.920497</td>\n",
       "      <td>0.007440</td>\n",
       "      <td>4</td>\n",
       "      <td>0.996118</td>\n",
       "      <td>0.993789</td>\n",
       "      <td>0.994177</td>\n",
       "      <td>0.993789</td>\n",
       "      <td>0.994177</td>\n",
       "      <td>0.994410</td>\n",
       "      <td>0.000872</td>\n",
       "    </tr>\n",
       "  </tbody>\n",
       "</table>\n",
       "<p>5 rows × 21 columns</p>\n",
       "</div>"
      ],
      "text/plain": [
       "   mean_fit_time  std_fit_time  mean_score_time  std_score_time param_C  \\\n",
       "0       0.428596      0.005226         0.084937        0.002445     0.1   \n",
       "1       0.288586      0.009971         0.053170        0.002648       1   \n",
       "2       0.246989      0.010275         0.041036        0.001621      10   \n",
       "3       0.265274      0.015770         0.036839        0.001905     100   \n",
       "4       0.329601      0.038915         0.034055        0.003134    1000   \n",
       "\n",
       "        params  split0_test_score  split1_test_score  split2_test_score  \\\n",
       "0   {'C': 0.1}           0.895963           0.902174           0.906832   \n",
       "1     {'C': 1}           0.917702           0.940994           0.920807   \n",
       "2    {'C': 10}           0.908385           0.944099           0.933230   \n",
       "3   {'C': 100}           0.913043           0.927019           0.936335   \n",
       "4  {'C': 1000}           0.908385           0.931677           0.922360   \n",
       "\n",
       "   split3_test_score  ...  mean_test_score  std_test_score  rank_test_score  \\\n",
       "0           0.902174  ...         0.905280        0.007795                5   \n",
       "1           0.930124  ...         0.929814        0.009440                2   \n",
       "2           0.928571  ...         0.930745        0.012368                1   \n",
       "3           0.930124  ...         0.928571        0.008562                3   \n",
       "4           0.919255  ...         0.920497        0.007440                4   \n",
       "\n",
       "   split0_train_score  split1_train_score  split2_train_score  \\\n",
       "0            0.912655            0.911879            0.912267   \n",
       "1            0.951475            0.946040            0.949922   \n",
       "2            0.975543            0.970885            0.973991   \n",
       "3            0.989519            0.989907            0.989907   \n",
       "4            0.996118            0.993789            0.994177   \n",
       "\n",
       "   split3_train_score  split4_train_score  mean_train_score  std_train_score  \n",
       "0            0.911102            0.906056          0.910792         0.002423  \n",
       "1            0.946040            0.945652          0.947826         0.002401  \n",
       "2            0.968944            0.971273          0.972127         0.002347  \n",
       "3            0.988354            0.987966          0.989130         0.000814  \n",
       "4            0.993789            0.994177          0.994410         0.000872  \n",
       "\n",
       "[5 rows x 21 columns]"
      ]
     },
     "execution_count": 23,
     "metadata": {},
     "output_type": "execute_result"
    }
   ],
   "source": [
    "# results of grid search CV\n",
    "cv_results = pd.DataFrame(model_cv.cv_results_)\n",
    "cv_results"
   ]
  },
  {
   "cell_type": "code",
   "execution_count": 24,
   "metadata": {
    "execution": {
     "iopub.execute_input": "2020-08-21T06:40:16.808110Z",
     "iopub.status.busy": "2020-08-21T06:40:16.807401Z",
     "iopub.status.idle": "2020-08-21T06:40:17.550926Z",
     "shell.execute_reply": "2020-08-21T06:40:17.550115Z"
    },
    "papermill": {
     "duration": 0.764339,
     "end_time": "2020-08-21T06:40:17.551061",
     "exception": false,
     "start_time": "2020-08-21T06:40:16.786722",
     "status": "completed"
    },
    "tags": []
   },
   "outputs": [
    {
     "data": {
      "image/png": "[encoded data removed]",
      "text/plain": [
       "<Figure size 576x432 with 1 Axes>"
      ]
     },
     "metadata": {
      "needs_background": "light"
     },
     "output_type": "display_data"
    }
   ],
   "source": [
    "# plot of C versus train and test scores\n",
    "\n",
    "plt.figure(figsize=(8, 6))\n",
    "plt.plot(cv_results['param_C'], cv_results['mean_test_score'])\n",
    "plt.plot(cv_results['param_C'], cv_results['mean_train_score'])\n",
    "plt.xlabel('C')\n",
    "plt.ylabel('Accuracy')\n",
    "plt.legend(['test accuracy', 'train accuracy'], loc='upper left')\n",
    "plt.xscale('log')"
   ]
  },
  {
   "cell_type": "markdown",
   "execution_count": null,
   "metadata": {
    "papermill": {
     "duration": 0.014484,
     "end_time": "2020-08-21T06:40:17.580526",
     "exception": false,
     "start_time": "2020-08-21T06:40:17.566042",
     "status": "completed"
    },
    "tags": []
   },
   "source": [
    "Though the training accuracy monotonically increases with C, the test accuracy gradually reduces. Thus, we can conclude that higher values of C tend to **overfit** the model. This is because a high C value aims to classify all training examples correctly (since C is the *cost of misclassification* - if you impose a high cost on the model, it will avoid misclassifying any points by overfitting the data). \n",
    "\n",
    "\n",
    "\n",
    "Let's finally look at the optimal C values found by GridSearchCV."
   ]
  },
  {
   "cell_type": "code",
   "execution_count": 25,
   "metadata": {
    "execution": {
     "iopub.execute_input": "2020-08-21T06:40:17.616182Z",
     "iopub.status.busy": "2020-08-21T06:40:17.615204Z",
     "iopub.status.idle": "2020-08-21T06:40:17.619520Z",
     "shell.execute_reply": "2020-08-21T06:40:17.618919Z"
    },
    "papermill": {
     "duration": 0.024366,
     "end_time": "2020-08-21T06:40:17.619665",
     "exception": false,
     "start_time": "2020-08-21T06:40:17.595299",
     "status": "completed"
    },
    "tags": []
   },
   "outputs": [
    {
     "name": "stdout",
     "output_type": "stream",
     "text": [
      " The highest test accuracy is 0.9307453416149067 at C = 10\n"
     ]
    }
   ],
   "source": [
    "best_score = model_cv.best_score_\n",
    "best_C = model_cv.best_params_['C']\n",
    "\n",
    "print(\" The highest test accuracy is {0} at C = {1}\".format(best_score, best_C))"
   ]
  },
  {
   "cell_type": "markdown",
   "execution_count": null,
   "metadata": {
    "papermill": {
     "duration": 0.013678,
     "end_time": "2020-08-21T06:40:17.649413",
     "exception": false,
     "start_time": "2020-08-21T06:40:17.635735",
     "status": "completed"
    },
    "tags": []
   },
   "source": [
    "Let's now look at the metrics corresponding to C=10."
   ]
  },
  {
   "cell_type": "code",
   "execution_count": 26,
   "metadata": {
    "execution": {
     "iopub.execute_input": "2020-08-21T06:40:17.683006Z",
     "iopub.status.busy": "2020-08-21T06:40:17.682265Z",
     "iopub.status.idle": "2020-08-21T06:40:18.164082Z",
     "shell.execute_reply": "2020-08-21T06:40:18.163326Z"
    },
    "papermill": {
     "duration": 0.500971,
     "end_time": "2020-08-21T06:40:18.164206",
     "exception": false,
     "start_time": "2020-08-21T06:40:17.663235",
     "status": "completed"
    },
    "tags": []
   },
   "outputs": [],
   "source": [
    "# model with the best value of C\n",
    "model = SVC(C=best_C)\n",
    "\n",
    "# fit\n",
    "model.fit(X_train, y_train)\n",
    "\n",
    "# predict\n",
    "y_pred = model.predict(X_test)"
   ]
  },
  {
   "cell_type": "code",
   "execution_count": 27,
   "metadata": {
    "execution": {
     "iopub.execute_input": "2020-08-21T06:40:18.199884Z",
     "iopub.status.busy": "2020-08-21T06:40:18.199145Z",
     "iopub.status.idle": "2020-08-21T06:40:18.209880Z",
     "shell.execute_reply": "2020-08-21T06:40:18.210369Z"
    },
    "papermill": {
     "duration": 0.031657,
     "end_time": "2020-08-21T06:40:18.210544",
     "exception": false,
     "start_time": "2020-08-21T06:40:18.178887",
     "status": "completed"
    },
    "tags": []
   },
   "outputs": [
    {
     "name": "stdout",
     "output_type": "stream",
     "text": [
      "accuracy 0.9304851556842868\n",
      "precision 0.9241245136186771\n",
      "recall 0.8928571428571429\n"
     ]
    }
   ],
   "source": [
    "# metrics\n",
    "# print other metrics\n",
    "\n",
    "# accuracy\n",
    "print(\"accuracy\", metrics.accuracy_score(y_test, y_pred))\n",
    "\n",
    "# precision\n",
    "print(\"precision\", metrics.precision_score(y_test, y_pred))\n",
    "\n",
    "# recall/sensitivity\n",
    "print(\"recall\", metrics.recall_score(y_test, y_pred))\n"
   ]
  },
  {
   "cell_type": "markdown",
   "execution_count": null,
   "metadata": {
    "papermill": {
     "duration": 0.070587,
     "end_time": "2020-08-21T06:40:18.295536",
     "exception": false,
     "start_time": "2020-08-21T06:40:18.224949",
     "status": "completed"
    },
    "tags": []
   },
   "source": [
    "## Optimising for Other Evaluation Metrics\n",
    "\n",
    "In this case, we had optimised (tuned) the model based on overall accuracy, though that may not always be the best metric to optimise. For example, if you are concerned more about catching all spams (positives), you may want to maximise TPR or sensitivity/recall. If, on the other hand, you want to avoid classifying hams as spams (so that any important mails don't get into the spam box), you would maximise the TNR or specificity."
   ]
  },
  {
   "cell_type": "code",
   "execution_count": 28,
   "metadata": {
    "execution": {
     "iopub.execute_input": "2020-08-21T06:40:18.337238Z",
     "iopub.status.busy": "2020-08-21T06:40:18.335595Z",
     "iopub.status.idle": "2020-08-21T06:41:02.340185Z",
     "shell.execute_reply": "2020-08-21T06:41:02.341146Z"
    },
    "papermill": {
     "duration": 44.03106,
     "end_time": "2020-08-21T06:41:02.341514",
     "exception": false,
     "start_time": "2020-08-21T06:40:18.310454",
     "status": "completed"
    },
    "tags": []
   },
   "outputs": [
    {
     "name": "stdout",
     "output_type": "stream",
     "text": [
      "# Tuning hyper-parameters for accuracy\n",
      " The highest accuracy score is 0.9307453416149067 at C = {'C': 10}\n",
      "\n",
      "\n",
      "# Tuning hyper-parameters for precision\n",
      " The highest precision score is 0.9373311086391073 at C = {'C': 0.1}\n",
      "\n",
      "\n",
      "# Tuning hyper-parameters for recall\n",
      " The highest recall score is 0.8987270122310326 at C = {'C': 10}\n",
      "\n",
      "\n"
     ]
    }
   ],
   "source": [
    "# specify params\n",
    "params = {\"C\": [0.1, 1, 10, 100, 1000]}\n",
    "\n",
    "# specify scores/metrics in an iterable\n",
    "scores = ['accuracy', 'precision', 'recall']\n",
    "\n",
    "for score in scores:\n",
    "    print(\"# Tuning hyper-parameters for {}\".format(score))\n",
    "    \n",
    "    # set up GridSearch for score metric\n",
    "    clf = GridSearchCV(SVC(), \n",
    "                       params, \n",
    "                       cv=folds,\n",
    "                       scoring=score,\n",
    "                       return_train_score=True)\n",
    "    # fit\n",
    "    clf.fit(X_train, y_train)\n",
    "\n",
    "    print(\" The highest {0} score is {1} at C = {2}\".format(score, clf.best_score_, clf.best_params_))\n",
    "    print(\"\\n\")"
   ]
  },
  {
   "cell_type": "markdown",
   "execution_count": null,
   "metadata": {
    "papermill": {
     "duration": 0.015682,
     "end_time": "2020-08-21T06:41:02.373857",
     "exception": false,
     "start_time": "2020-08-21T06:41:02.358175",
     "status": "completed"
    },
    "tags": []
   },
   "source": [
    "# Non-Linear SVM"
   ]
  },
  {
   "cell_type": "markdown",
   "execution_count": null,
   "metadata": {
    "papermill": {
     "duration": 0.014689,
     "end_time": "2020-08-21T06:41:02.404210",
     "exception": false,
     "start_time": "2020-08-21T06:41:02.389521",
     "status": "completed"
    },
    "tags": []
   },
   "source": [
    "A non-linear model (using non-linear kernels) and then finding the optimal hyperparameters (the choice of kernel, C, gamma)."
   ]
  },
  {
   "cell_type": "code",
   "execution_count": 29,
   "metadata": {
    "execution": {
     "iopub.execute_input": "2020-08-21T06:41:02.443605Z",
     "iopub.status.busy": "2020-08-21T06:41:02.442330Z",
     "iopub.status.idle": "2020-08-21T06:41:02.445937Z",
     "shell.execute_reply": "2020-08-21T06:41:02.445325Z"
    },
    "papermill": {
     "duration": 0.026602,
     "end_time": "2020-08-21T06:41:02.446066",
     "exception": false,
     "start_time": "2020-08-21T06:41:02.419464",
     "status": "completed"
    },
    "tags": []
   },
   "outputs": [],
   "source": [
    "import pandas as pd\n",
    "import numpy as np\n",
    "from sklearn.svm import SVC\n",
    "from sklearn.model_selection import train_test_split\n",
    "from sklearn import metrics\n",
    "from sklearn.metrics import confusion_matrix\n",
    "from sklearn.model_selection import KFold\n",
    "from sklearn.model_selection import cross_val_score\n",
    "from sklearn.model_selection import GridSearchCV\n",
    "import matplotlib.pyplot as plt\n",
    "import seaborn as sns\n",
    "from sklearn.preprocessing import scale"
   ]
  },
  {
   "cell_type": "code",
   "execution_count": 30,
   "metadata": {
    "execution": {
     "iopub.execute_input": "2020-08-21T06:41:02.485153Z",
     "iopub.status.busy": "2020-08-21T06:41:02.484391Z",
     "iopub.status.idle": "2020-08-21T06:41:02.539138Z",
     "shell.execute_reply": "2020-08-21T06:41:02.538573Z"
    },
    "papermill": {
     "duration": 0.078372,
     "end_time": "2020-08-21T06:41:02.539260",
     "exception": false,
     "start_time": "2020-08-21T06:41:02.460888",
     "status": "completed"
    },
    "tags": []
   },
   "outputs": [
    {
     "data": {
      "text/html": [
       "<div>\n",
       "<style scoped>\n",
       "    .dataframe tbody tr th:only-of-type {\n",
       "        vertical-align: middle;\n",
       "    }\n",
       "\n",
       "    .dataframe tbody tr th {\n",
       "        vertical-align: top;\n",
       "    }\n",
       "\n",
       "    .dataframe thead th {\n",
       "        text-align: right;\n",
       "    }\n",
       "</style>\n",
       "<table border=\"1\" class=\"dataframe\">\n",
       "  <thead>\n",
       "    <tr style=\"text-align: right;\">\n",
       "      <th></th>\n",
       "      <th>0</th>\n",
       "      <th>1</th>\n",
       "      <th>2</th>\n",
       "      <th>3</th>\n",
       "      <th>4</th>\n",
       "      <th>5</th>\n",
       "      <th>6</th>\n",
       "      <th>7</th>\n",
       "      <th>8</th>\n",
       "      <th>9</th>\n",
       "      <th>...</th>\n",
       "      <th>48</th>\n",
       "      <th>49</th>\n",
       "      <th>50</th>\n",
       "      <th>51</th>\n",
       "      <th>52</th>\n",
       "      <th>53</th>\n",
       "      <th>54</th>\n",
       "      <th>55</th>\n",
       "      <th>56</th>\n",
       "      <th>57</th>\n",
       "    </tr>\n",
       "  </thead>\n",
       "  <tbody>\n",
       "    <tr>\n",
       "      <th>0</th>\n",
       "      <td>0.00</td>\n",
       "      <td>0.64</td>\n",
       "      <td>0.64</td>\n",
       "      <td>0.0</td>\n",
       "      <td>0.32</td>\n",
       "      <td>0.00</td>\n",
       "      <td>0.00</td>\n",
       "      <td>0.00</td>\n",
       "      <td>0.00</td>\n",
       "      <td>0.00</td>\n",
       "      <td>...</td>\n",
       "      <td>0.00</td>\n",
       "      <td>0.000</td>\n",
       "      <td>0.0</td>\n",
       "      <td>0.778</td>\n",
       "      <td>0.000</td>\n",
       "      <td>0.000</td>\n",
       "      <td>3.756</td>\n",
       "      <td>61</td>\n",
       "      <td>278</td>\n",
       "      <td>1</td>\n",
       "    </tr>\n",
       "    <tr>\n",
       "      <th>1</th>\n",
       "      <td>0.21</td>\n",
       "      <td>0.28</td>\n",
       "      <td>0.50</td>\n",
       "      <td>0.0</td>\n",
       "      <td>0.14</td>\n",
       "      <td>0.28</td>\n",
       "      <td>0.21</td>\n",
       "      <td>0.07</td>\n",
       "      <td>0.00</td>\n",
       "      <td>0.94</td>\n",
       "      <td>...</td>\n",
       "      <td>0.00</td>\n",
       "      <td>0.132</td>\n",
       "      <td>0.0</td>\n",
       "      <td>0.372</td>\n",
       "      <td>0.180</td>\n",
       "      <td>0.048</td>\n",
       "      <td>5.114</td>\n",
       "      <td>101</td>\n",
       "      <td>1028</td>\n",
       "      <td>1</td>\n",
       "    </tr>\n",
       "    <tr>\n",
       "      <th>2</th>\n",
       "      <td>0.06</td>\n",
       "      <td>0.00</td>\n",
       "      <td>0.71</td>\n",
       "      <td>0.0</td>\n",
       "      <td>1.23</td>\n",
       "      <td>0.19</td>\n",
       "      <td>0.19</td>\n",
       "      <td>0.12</td>\n",
       "      <td>0.64</td>\n",
       "      <td>0.25</td>\n",
       "      <td>...</td>\n",
       "      <td>0.01</td>\n",
       "      <td>0.143</td>\n",
       "      <td>0.0</td>\n",
       "      <td>0.276</td>\n",
       "      <td>0.184</td>\n",
       "      <td>0.010</td>\n",
       "      <td>9.821</td>\n",
       "      <td>485</td>\n",
       "      <td>2259</td>\n",
       "      <td>1</td>\n",
       "    </tr>\n",
       "    <tr>\n",
       "      <th>3</th>\n",
       "      <td>0.00</td>\n",
       "      <td>0.00</td>\n",
       "      <td>0.00</td>\n",
       "      <td>0.0</td>\n",
       "      <td>0.63</td>\n",
       "      <td>0.00</td>\n",
       "      <td>0.31</td>\n",
       "      <td>0.63</td>\n",
       "      <td>0.31</td>\n",
       "      <td>0.63</td>\n",
       "      <td>...</td>\n",
       "      <td>0.00</td>\n",
       "      <td>0.137</td>\n",
       "      <td>0.0</td>\n",
       "      <td>0.137</td>\n",
       "      <td>0.000</td>\n",
       "      <td>0.000</td>\n",
       "      <td>3.537</td>\n",
       "      <td>40</td>\n",
       "      <td>191</td>\n",
       "      <td>1</td>\n",
       "    </tr>\n",
       "    <tr>\n",
       "      <th>4</th>\n",
       "      <td>0.00</td>\n",
       "      <td>0.00</td>\n",
       "      <td>0.00</td>\n",
       "      <td>0.0</td>\n",
       "      <td>0.63</td>\n",
       "      <td>0.00</td>\n",
       "      <td>0.31</td>\n",
       "      <td>0.63</td>\n",
       "      <td>0.31</td>\n",
       "      <td>0.63</td>\n",
       "      <td>...</td>\n",
       "      <td>0.00</td>\n",
       "      <td>0.135</td>\n",
       "      <td>0.0</td>\n",
       "      <td>0.135</td>\n",
       "      <td>0.000</td>\n",
       "      <td>0.000</td>\n",
       "      <td>3.537</td>\n",
       "      <td>40</td>\n",
       "      <td>191</td>\n",
       "      <td>1</td>\n",
       "    </tr>\n",
       "  </tbody>\n",
       "</table>\n",
       "<p>5 rows × 58 columns</p>\n",
       "</div>"
      ],
      "text/plain": [
       "     0     1     2    3     4     5     6     7     8     9   ...    48  \\\n",
       "0  0.00  0.64  0.64  0.0  0.32  0.00  0.00  0.00  0.00  0.00  ...  0.00   \n",
       "1  0.21  0.28  0.50  0.0  0.14  0.28  0.21  0.07  0.00  0.94  ...  0.00   \n",
       "2  0.06  0.00  0.71  0.0  1.23  0.19  0.19  0.12  0.64  0.25  ...  0.01   \n",
       "3  0.00  0.00  0.00  0.0  0.63  0.00  0.31  0.63  0.31  0.63  ...  0.00   \n",
       "4  0.00  0.00  0.00  0.0  0.63  0.00  0.31  0.63  0.31  0.63  ...  0.00   \n",
       "\n",
       "      49   50     51     52     53     54   55    56  57  \n",
       "0  0.000  0.0  0.778  0.000  0.000  3.756   61   278   1  \n",
       "1  0.132  0.0  0.372  0.180  0.048  5.114  101  1028   1  \n",
       "2  0.143  0.0  0.276  0.184  0.010  9.821  485  2259   1  \n",
       "3  0.137  0.0  0.137  0.000  0.000  3.537   40   191   1  \n",
       "4  0.135  0.0  0.135  0.000  0.000  3.537   40   191   1  \n",
       "\n",
       "[5 rows x 58 columns]"
      ]
     },
     "execution_count": 30,
     "metadata": {},
     "output_type": "execute_result"
    }
   ],
   "source": [
    "email_rec = pd.read_csv(\"../input/spambase/realspambase.data\",  sep = ',', header= None )\n",
    "email_rec.head()"
   ]
  },
  {
   "cell_type": "markdown",
   "execution_count": null,
   "metadata": {
    "papermill": {
     "duration": 0.014666,
     "end_time": "2020-08-21T06:41:02.568950",
     "exception": false,
     "start_time": "2020-08-21T06:41:02.554284",
     "status": "completed"
    },
    "tags": []
   },
   "source": [
    "Renaming the column names"
   ]
  },
  {
   "cell_type": "code",
   "execution_count": 31,
   "metadata": {
    "execution": {
     "iopub.execute_input": "2020-08-21T06:41:02.618640Z",
     "iopub.status.busy": "2020-08-21T06:41:02.617747Z",
     "iopub.status.idle": "2020-08-21T06:41:02.621893Z",
     "shell.execute_reply": "2020-08-21T06:41:02.621013Z"
    },
    "papermill": {
     "duration": 0.038177,
     "end_time": "2020-08-21T06:41:02.622014",
     "exception": false,
     "start_time": "2020-08-21T06:41:02.583837",
     "status": "completed"
    },
    "tags": []
   },
   "outputs": [
    {
     "name": "stdout",
     "output_type": "stream",
     "text": [
      "   word_freq_make  word_freq_address  word_freq_all  word_freq_3d  \\\n",
      "0            0.00               0.64           0.64           0.0   \n",
      "1            0.21               0.28           0.50           0.0   \n",
      "2            0.06               0.00           0.71           0.0   \n",
      "3            0.00               0.00           0.00           0.0   \n",
      "4            0.00               0.00           0.00           0.0   \n",
      "\n",
      "   word_freq_our  word_freq_over  word_freq_remove  word_freq_internet  \\\n",
      "0           0.32            0.00              0.00                0.00   \n",
      "1           0.14            0.28              0.21                0.07   \n",
      "2           1.23            0.19              0.19                0.12   \n",
      "3           0.63            0.00              0.31                0.63   \n",
      "4           0.63            0.00              0.31                0.63   \n",
      "\n",
      "   word_freq_order  word_freq_mail  ...  char_freq_;  char_freq_(  \\\n",
      "0             0.00            0.00  ...         0.00        0.000   \n",
      "1             0.00            0.94  ...         0.00        0.132   \n",
      "2             0.64            0.25  ...         0.01        0.143   \n",
      "3             0.31            0.63  ...         0.00        0.137   \n",
      "4             0.31            0.63  ...         0.00        0.135   \n",
      "\n",
      "   char_freq_[  char_freq_!  char_freq_$  char_freq_hash  \\\n",
      "0          0.0        0.778        0.000           0.000   \n",
      "1          0.0        0.372        0.180           0.048   \n",
      "2          0.0        0.276        0.184           0.010   \n",
      "3          0.0        0.137        0.000           0.000   \n",
      "4          0.0        0.135        0.000           0.000   \n",
      "\n",
      "   capital_run_length_average  capital_run_length_longest  \\\n",
      "0                       3.756                          61   \n",
      "1                       5.114                         101   \n",
      "2                       9.821                         485   \n",
      "3                       3.537                          40   \n",
      "4                       3.537                          40   \n",
      "\n",
      "   capital_run_length_total  spam  \n",
      "0                       278     1  \n",
      "1                      1028     1  \n",
      "2                      2259     1  \n",
      "3                       191     1  \n",
      "4                       191     1  \n",
      "\n",
      "[5 rows x 58 columns]\n"
     ]
    }
   ],
   "source": [
    "# renaming the columns\n",
    "email_rec.columns  = [\"word_freq_make\", \"word_freq_address\", \"word_freq_all\", \"word_freq_3d\", \n",
    "                      \"word_freq_our\", \"word_freq_over\", \"word_freq_remove\", \"word_freq_internet\", \n",
    "                      \"word_freq_order\", \"word_freq_mail\", \"word_freq_receive\", \"word_freq_will\", \n",
    "                      \"word_freq_people\", \"word_freq_report\", \"word_freq_addresses\", \"word_freq_free\", \n",
    "                      \"word_freq_business\", \"word_freq_email\", \"word_freq_you\", \"word_freq_credit\", \n",
    "                      \"word_freq_your\", \"word_freq_font\", \"word_freq_000\", \"word_freq_money\", \"word_freq_hp\", \n",
    "                      \"word_freq_hpl\", \"word_freq_george\", \"word_freq_650\", \"word_freq_lab\", \"word_freq_labs\", \n",
    "                      \"word_freq_telnet\", \"word_freq_857\", \"word_freq_data\", \"word_freq_415\", \"word_freq_85\", \n",
    "                      \"word_freq_technology\", \"word_freq_1999\", \"word_freq_parts\", \"word_freq_pm\", \"word_freq_direct\",\n",
    "                      \"word_freq_cs\", \"word_freq_meeting\", \"word_freq_original\", \"word_freq_project\", \"word_freq_re\", \n",
    "                      \"word_freq_edu\", \"word_freq_table\", \"word_freq_conference\", \"char_freq_;\", \"char_freq_(\", \n",
    "                      \"char_freq_[\", \"char_freq_!\", \"char_freq_$\", \"char_freq_hash\", \"capital_run_length_average\", \n",
    "                      \"capital_run_length_longest\", \"capital_run_length_total\", \"spam\"]\n",
    "print(email_rec.head())"
   ]
  },
  {
   "cell_type": "markdown",
   "execution_count": null,
   "metadata": {
    "papermill": {
     "duration": 0.014467,
     "end_time": "2020-08-21T06:41:02.651547",
     "exception": false,
     "start_time": "2020-08-21T06:41:02.637080",
     "status": "completed"
    },
    "tags": []
   },
   "source": [
    "## Data Preparation"
   ]
  },
  {
   "cell_type": "code",
   "execution_count": 32,
   "metadata": {
    "execution": {
     "iopub.execute_input": "2020-08-21T06:41:02.689549Z",
     "iopub.status.busy": "2020-08-21T06:41:02.688866Z",
     "iopub.status.idle": "2020-08-21T06:41:02.692658Z",
     "shell.execute_reply": "2020-08-21T06:41:02.691895Z"
    },
    "papermill": {
     "duration": 0.026664,
     "end_time": "2020-08-21T06:41:02.692801",
     "exception": false,
     "start_time": "2020-08-21T06:41:02.666137",
     "status": "completed"
    },
    "tags": []
   },
   "outputs": [],
   "source": [
    "# splitting into X and y\n",
    "X = email_rec.drop(\"spam\", axis = 1)\n",
    "y = email_rec.spam.values.astype(int)"
   ]
  },
  {
   "cell_type": "code",
   "execution_count": 33,
   "metadata": {
    "execution": {
     "iopub.execute_input": "2020-08-21T06:41:02.733701Z",
     "iopub.status.busy": "2020-08-21T06:41:02.732942Z",
     "iopub.status.idle": "2020-08-21T06:41:02.748446Z",
     "shell.execute_reply": "2020-08-21T06:41:02.748965Z"
    },
    "papermill": {
     "duration": 0.039962,
     "end_time": "2020-08-21T06:41:02.749128",
     "exception": false,
     "start_time": "2020-08-21T06:41:02.709166",
     "status": "completed"
    },
    "tags": []
   },
   "outputs": [],
   "source": [
    "# scaling the features\n",
    "X_scaled = scale(X)\n",
    "\n",
    "# train test split\n",
    "X_train, X_test, y_train, y_test = train_test_split(X_scaled, y, test_size = 0.3, random_state = 4)"
   ]
  },
  {
   "cell_type": "markdown",
   "execution_count": null,
   "metadata": {
    "papermill": {
     "duration": 0.014445,
     "end_time": "2020-08-21T06:41:02.778581",
     "exception": false,
     "start_time": "2020-08-21T06:41:02.764136",
     "status": "completed"
    },
    "tags": []
   },
   "source": [
    "## Model Building"
   ]
  },
  {
   "cell_type": "code",
   "execution_count": 34,
   "metadata": {
    "execution": {
     "iopub.execute_input": "2020-08-21T06:41:02.815895Z",
     "iopub.status.busy": "2020-08-21T06:41:02.814715Z",
     "iopub.status.idle": "2020-08-21T06:41:03.353396Z",
     "shell.execute_reply": "2020-08-21T06:41:03.352840Z"
    },
    "papermill": {
     "duration": 0.559739,
     "end_time": "2020-08-21T06:41:03.353530",
     "exception": false,
     "start_time": "2020-08-21T06:41:02.793791",
     "status": "completed"
    },
    "tags": []
   },
   "outputs": [],
   "source": [
    "# using rbf kernel, C=1, default value of gamma\n",
    "\n",
    "model = SVC(C = 1, kernel='rbf')\n",
    "model.fit(X_train, y_train)\n",
    "y_pred = model.predict(X_test)"
   ]
  },
  {
   "cell_type": "markdown",
   "execution_count": null,
   "metadata": {
    "papermill": {
     "duration": 0.0145,
     "end_time": "2020-08-21T06:41:03.383529",
     "exception": false,
     "start_time": "2020-08-21T06:41:03.369029",
     "status": "completed"
    },
    "tags": []
   },
   "source": [
    "## Model Evaluation Metrics"
   ]
  },
  {
   "cell_type": "code",
   "execution_count": 35,
   "metadata": {
    "execution": {
     "iopub.execute_input": "2020-08-21T06:41:03.420042Z",
     "iopub.status.busy": "2020-08-21T06:41:03.419124Z",
     "iopub.status.idle": "2020-08-21T06:41:03.426943Z",
     "shell.execute_reply": "2020-08-21T06:41:03.426286Z"
    },
    "papermill": {
     "duration": 0.028109,
     "end_time": "2020-08-21T06:41:03.427071",
     "exception": false,
     "start_time": "2020-08-21T06:41:03.398962",
     "status": "completed"
    },
    "tags": []
   },
   "outputs": [
    {
     "data": {
      "text/plain": [
       "array([[811,  38],\n",
       "       [ 61, 471]])"
      ]
     },
     "execution_count": 35,
     "metadata": {},
     "output_type": "execute_result"
    }
   ],
   "source": [
    "# confusion matrix\n",
    "confusion_matrix(y_true=y_test, y_pred=y_pred)"
   ]
  },
  {
   "cell_type": "code",
   "execution_count": 36,
   "metadata": {
    "execution": {
     "iopub.execute_input": "2020-08-21T06:41:03.463667Z",
     "iopub.status.busy": "2020-08-21T06:41:03.462540Z",
     "iopub.status.idle": "2020-08-21T06:41:03.471686Z",
     "shell.execute_reply": "2020-08-21T06:41:03.471135Z"
    },
    "papermill": {
     "duration": 0.029419,
     "end_time": "2020-08-21T06:41:03.471804",
     "exception": false,
     "start_time": "2020-08-21T06:41:03.442385",
     "status": "completed"
    },
    "tags": []
   },
   "outputs": [
    {
     "name": "stdout",
     "output_type": "stream",
     "text": [
      "accuracy 0.9283128167994207\n",
      "precision 0.925343811394892\n",
      "recall 0.8853383458646616\n"
     ]
    }
   ],
   "source": [
    "# accuracy\n",
    "print(\"accuracy\", metrics.accuracy_score(y_test, y_pred))\n",
    "\n",
    "# precision\n",
    "print(\"precision\", metrics.precision_score(y_test, y_pred))\n",
    "\n",
    "# recall/sensitivity\n",
    "print(\"recall\", metrics.recall_score(y_test, y_pred))"
   ]
  },
  {
   "cell_type": "markdown",
   "execution_count": null,
   "metadata": {
    "papermill": {
     "duration": 0.015133,
     "end_time": "2020-08-21T06:41:03.502235",
     "exception": false,
     "start_time": "2020-08-21T06:41:03.487102",
     "status": "completed"
    },
    "tags": []
   },
   "source": [
    "## Hyperparameter Tuning \n",
    "\n",
    "Now, we have multiple hyperparameters to optimise - \n",
    "- The choice of kernel (linear, rbf etc.)\n",
    "- C\n",
    "- gamma\n",
    "\n",
    "We'll use the ```GridSearchCV()``` method to tune the hyperparameters. \n",
    "\n",
    "## Grid Search to Find Optimal Hyperparameters\n",
    "\n",
    "Let's first use the RBF kernel to find the optimal C and gamma (we can consider the kernel as a hyperparameter as well, though training the model will take an exorbitant amount of time). "
   ]
  },
  {
   "cell_type": "code",
   "execution_count": 37,
   "metadata": {
    "execution": {
     "iopub.execute_input": "2020-08-21T06:41:03.541259Z",
     "iopub.status.busy": "2020-08-21T06:41:03.540301Z",
     "iopub.status.idle": "2020-08-21T06:41:37.816534Z",
     "shell.execute_reply": "2020-08-21T06:41:37.815767Z"
    },
    "papermill": {
     "duration": 34.298858,
     "end_time": "2020-08-21T06:41:37.816674",
     "exception": false,
     "start_time": "2020-08-21T06:41:03.517816",
     "status": "completed"
    },
    "tags": []
   },
   "outputs": [
    {
     "name": "stdout",
     "output_type": "stream",
     "text": [
      "Fitting 5 folds for each of 12 candidates, totalling 60 fits\n"
     ]
    },
    {
     "name": "stderr",
     "output_type": "stream",
     "text": [
      "[Parallel(n_jobs=1)]: Using backend SequentialBackend with 1 concurrent workers.\n",
      "[Parallel(n_jobs=1)]: Done  60 out of  60 | elapsed:   33.9s finished\n"
     ]
    },
    {
     "data": {
      "text/plain": [
       "GridSearchCV(cv=KFold(n_splits=5, random_state=4, shuffle=True),\n",
       "             estimator=SVC(),\n",
       "             param_grid=[{'C': [1, 10, 100, 1000],\n",
       "                          'gamma': [0.01, 0.001, 0.0001]}],\n",
       "             return_train_score=True, scoring='accuracy', verbose=1)"
      ]
     },
     "execution_count": 37,
     "metadata": {},
     "output_type": "execute_result"
    }
   ],
   "source": [
    "# creating a KFold object with 5 splits \n",
    "folds = KFold(n_splits = 5, shuffle = True, random_state = 4)\n",
    "\n",
    "# specify range of hyperparameters\n",
    "# Set the parameters by cross-validation\n",
    "hyper_params = [ {'gamma': [1e-2, 1e-3, 1e-4],\n",
    "                     'C': [1, 10, 100, 1000]}]\n",
    "\n",
    "\n",
    "# specify model\n",
    "model = SVC(kernel=\"rbf\")\n",
    "\n",
    "# set up GridSearchCV()\n",
    "model_cv = GridSearchCV(estimator = model, \n",
    "                        param_grid = hyper_params, \n",
    "                        scoring= 'accuracy', \n",
    "                        cv = folds, \n",
    "                        verbose = 1,\n",
    "                        return_train_score=True)      \n",
    "\n",
    "# fit the model\n",
    "model_cv.fit(X_train, y_train)                  \n"
   ]
  },
  {
   "cell_type": "code",
   "execution_count": 38,
   "metadata": {
    "execution": {
     "iopub.execute_input": "2020-08-21T06:41:37.879466Z",
     "iopub.status.busy": "2020-08-21T06:41:37.866033Z",
     "iopub.status.idle": "2020-08-21T06:41:37.889871Z",
     "shell.execute_reply": "2020-08-21T06:41:37.889153Z"
    },
    "papermill": {
     "duration": 0.057553,
     "end_time": "2020-08-21T06:41:37.889996",
     "exception": false,
     "start_time": "2020-08-21T06:41:37.832443",
     "status": "completed"
    },
    "tags": []
   },
   "outputs": [
    {
     "data": {
      "text/html": [
       "<div>\n",
       "<style scoped>\n",
       "    .dataframe tbody tr th:only-of-type {\n",
       "        vertical-align: middle;\n",
       "    }\n",
       "\n",
       "    .dataframe tbody tr th {\n",
       "        vertical-align: top;\n",
       "    }\n",
       "\n",
       "    .dataframe thead th {\n",
       "        text-align: right;\n",
       "    }\n",
       "</style>\n",
       "<table border=\"1\" class=\"dataframe\">\n",
       "  <thead>\n",
       "    <tr style=\"text-align: right;\">\n",
       "      <th></th>\n",
       "      <th>mean_fit_time</th>\n",
       "      <th>std_fit_time</th>\n",
       "      <th>mean_score_time</th>\n",
       "      <th>std_score_time</th>\n",
       "      <th>param_C</th>\n",
       "      <th>param_gamma</th>\n",
       "      <th>params</th>\n",
       "      <th>split0_test_score</th>\n",
       "      <th>split1_test_score</th>\n",
       "      <th>split2_test_score</th>\n",
       "      <th>...</th>\n",
       "      <th>mean_test_score</th>\n",
       "      <th>std_test_score</th>\n",
       "      <th>rank_test_score</th>\n",
       "      <th>split0_train_score</th>\n",
       "      <th>split1_train_score</th>\n",
       "      <th>split2_train_score</th>\n",
       "      <th>split3_train_score</th>\n",
       "      <th>split4_train_score</th>\n",
       "      <th>mean_train_score</th>\n",
       "      <th>std_train_score</th>\n",
       "    </tr>\n",
       "  </thead>\n",
       "  <tbody>\n",
       "    <tr>\n",
       "      <th>0</th>\n",
       "      <td>0.269214</td>\n",
       "      <td>0.020033</td>\n",
       "      <td>0.055881</td>\n",
       "      <td>0.006710</td>\n",
       "      <td>1</td>\n",
       "      <td>0.01</td>\n",
       "      <td>{'C': 1, 'gamma': 0.01}</td>\n",
       "      <td>0.917702</td>\n",
       "      <td>0.939441</td>\n",
       "      <td>0.922360</td>\n",
       "      <td>...</td>\n",
       "      <td>0.929814</td>\n",
       "      <td>0.008528</td>\n",
       "      <td>5</td>\n",
       "      <td>0.943323</td>\n",
       "      <td>0.940994</td>\n",
       "      <td>0.945264</td>\n",
       "      <td>0.937112</td>\n",
       "      <td>0.939829</td>\n",
       "      <td>0.941304</td>\n",
       "      <td>0.002814</td>\n",
       "    </tr>\n",
       "    <tr>\n",
       "      <th>1</th>\n",
       "      <td>0.366548</td>\n",
       "      <td>0.013515</td>\n",
       "      <td>0.075167</td>\n",
       "      <td>0.003104</td>\n",
       "      <td>1</td>\n",
       "      <td>0.001</td>\n",
       "      <td>{'C': 1, 'gamma': 0.001}</td>\n",
       "      <td>0.886646</td>\n",
       "      <td>0.919255</td>\n",
       "      <td>0.899068</td>\n",
       "      <td>...</td>\n",
       "      <td>0.904037</td>\n",
       "      <td>0.013080</td>\n",
       "      <td>10</td>\n",
       "      <td>0.910326</td>\n",
       "      <td>0.903339</td>\n",
       "      <td>0.908773</td>\n",
       "      <td>0.906056</td>\n",
       "      <td>0.904115</td>\n",
       "      <td>0.906522</td>\n",
       "      <td>0.002672</td>\n",
       "    </tr>\n",
       "    <tr>\n",
       "      <th>2</th>\n",
       "      <td>0.593977</td>\n",
       "      <td>0.011529</td>\n",
       "      <td>0.123664</td>\n",
       "      <td>0.001715</td>\n",
       "      <td>1</td>\n",
       "      <td>0.0001</td>\n",
       "      <td>{'C': 1, 'gamma': 0.0001}</td>\n",
       "      <td>0.770186</td>\n",
       "      <td>0.802795</td>\n",
       "      <td>0.791925</td>\n",
       "      <td>...</td>\n",
       "      <td>0.786025</td>\n",
       "      <td>0.015322</td>\n",
       "      <td>12</td>\n",
       "      <td>0.789208</td>\n",
       "      <td>0.779503</td>\n",
       "      <td>0.785326</td>\n",
       "      <td>0.791925</td>\n",
       "      <td>0.788820</td>\n",
       "      <td>0.786957</td>\n",
       "      <td>0.004277</td>\n",
       "    </tr>\n",
       "    <tr>\n",
       "      <th>3</th>\n",
       "      <td>0.219823</td>\n",
       "      <td>0.020667</td>\n",
       "      <td>0.037520</td>\n",
       "      <td>0.002060</td>\n",
       "      <td>10</td>\n",
       "      <td>0.01</td>\n",
       "      <td>{'C': 10, 'gamma': 0.01}</td>\n",
       "      <td>0.909938</td>\n",
       "      <td>0.944099</td>\n",
       "      <td>0.934783</td>\n",
       "      <td>...</td>\n",
       "      <td>0.933230</td>\n",
       "      <td>0.012266</td>\n",
       "      <td>3</td>\n",
       "      <td>0.966227</td>\n",
       "      <td>0.966615</td>\n",
       "      <td>0.967003</td>\n",
       "      <td>0.961568</td>\n",
       "      <td>0.962345</td>\n",
       "      <td>0.964752</td>\n",
       "      <td>0.002308</td>\n",
       "    </tr>\n",
       "    <tr>\n",
       "      <th>4</th>\n",
       "      <td>0.249746</td>\n",
       "      <td>0.020745</td>\n",
       "      <td>0.046656</td>\n",
       "      <td>0.003762</td>\n",
       "      <td>10</td>\n",
       "      <td>0.001</td>\n",
       "      <td>{'C': 10, 'gamma': 0.001}</td>\n",
       "      <td>0.917702</td>\n",
       "      <td>0.934783</td>\n",
       "      <td>0.916149</td>\n",
       "      <td>...</td>\n",
       "      <td>0.928261</td>\n",
       "      <td>0.009491</td>\n",
       "      <td>7</td>\n",
       "      <td>0.937112</td>\n",
       "      <td>0.932453</td>\n",
       "      <td>0.936335</td>\n",
       "      <td>0.935171</td>\n",
       "      <td>0.931289</td>\n",
       "      <td>0.934472</td>\n",
       "      <td>0.002242</td>\n",
       "    </tr>\n",
       "    <tr>\n",
       "      <th>5</th>\n",
       "      <td>0.359926</td>\n",
       "      <td>0.003320</td>\n",
       "      <td>0.072597</td>\n",
       "      <td>0.001754</td>\n",
       "      <td>10</td>\n",
       "      <td>0.0001</td>\n",
       "      <td>{'C': 10, 'gamma': 0.0001}</td>\n",
       "      <td>0.883540</td>\n",
       "      <td>0.914596</td>\n",
       "      <td>0.899068</td>\n",
       "      <td>...</td>\n",
       "      <td>0.902174</td>\n",
       "      <td>0.013749</td>\n",
       "      <td>11</td>\n",
       "      <td>0.909938</td>\n",
       "      <td>0.902174</td>\n",
       "      <td>0.908773</td>\n",
       "      <td>0.905280</td>\n",
       "      <td>0.902562</td>\n",
       "      <td>0.905745</td>\n",
       "      <td>0.003158</td>\n",
       "    </tr>\n",
       "    <tr>\n",
       "      <th>6</th>\n",
       "      <td>0.245291</td>\n",
       "      <td>0.018731</td>\n",
       "      <td>0.033737</td>\n",
       "      <td>0.003829</td>\n",
       "      <td>100</td>\n",
       "      <td>0.01</td>\n",
       "      <td>{'C': 100, 'gamma': 0.01}</td>\n",
       "      <td>0.913043</td>\n",
       "      <td>0.937888</td>\n",
       "      <td>0.934783</td>\n",
       "      <td>...</td>\n",
       "      <td>0.931677</td>\n",
       "      <td>0.010159</td>\n",
       "      <td>4</td>\n",
       "      <td>0.982531</td>\n",
       "      <td>0.979814</td>\n",
       "      <td>0.982531</td>\n",
       "      <td>0.982143</td>\n",
       "      <td>0.982531</td>\n",
       "      <td>0.981910</td>\n",
       "      <td>0.001059</td>\n",
       "    </tr>\n",
       "    <tr>\n",
       "      <th>7</th>\n",
       "      <td>0.225962</td>\n",
       "      <td>0.006616</td>\n",
       "      <td>0.035665</td>\n",
       "      <td>0.002324</td>\n",
       "      <td>100</td>\n",
       "      <td>0.001</td>\n",
       "      <td>{'C': 100, 'gamma': 0.001}</td>\n",
       "      <td>0.923913</td>\n",
       "      <td>0.940994</td>\n",
       "      <td>0.925466</td>\n",
       "      <td>...</td>\n",
       "      <td>0.933851</td>\n",
       "      <td>0.008482</td>\n",
       "      <td>1</td>\n",
       "      <td>0.950311</td>\n",
       "      <td>0.949534</td>\n",
       "      <td>0.948758</td>\n",
       "      <td>0.945652</td>\n",
       "      <td>0.939829</td>\n",
       "      <td>0.946817</td>\n",
       "      <td>0.003835</td>\n",
       "    </tr>\n",
       "    <tr>\n",
       "      <th>8</th>\n",
       "      <td>0.247058</td>\n",
       "      <td>0.005592</td>\n",
       "      <td>0.045038</td>\n",
       "      <td>0.000681</td>\n",
       "      <td>100</td>\n",
       "      <td>0.0001</td>\n",
       "      <td>{'C': 100, 'gamma': 0.0001}</td>\n",
       "      <td>0.919255</td>\n",
       "      <td>0.934783</td>\n",
       "      <td>0.917702</td>\n",
       "      <td>...</td>\n",
       "      <td>0.927019</td>\n",
       "      <td>0.007349</td>\n",
       "      <td>8</td>\n",
       "      <td>0.934006</td>\n",
       "      <td>0.931289</td>\n",
       "      <td>0.934006</td>\n",
       "      <td>0.930901</td>\n",
       "      <td>0.929348</td>\n",
       "      <td>0.931910</td>\n",
       "      <td>0.001831</td>\n",
       "    </tr>\n",
       "    <tr>\n",
       "      <th>9</th>\n",
       "      <td>0.348134</td>\n",
       "      <td>0.028022</td>\n",
       "      <td>0.030787</td>\n",
       "      <td>0.003059</td>\n",
       "      <td>1000</td>\n",
       "      <td>0.01</td>\n",
       "      <td>{'C': 1000, 'gamma': 0.01}</td>\n",
       "      <td>0.908385</td>\n",
       "      <td>0.922360</td>\n",
       "      <td>0.920807</td>\n",
       "      <td>...</td>\n",
       "      <td>0.918323</td>\n",
       "      <td>0.005607</td>\n",
       "      <td>9</td>\n",
       "      <td>0.993789</td>\n",
       "      <td>0.992624</td>\n",
       "      <td>0.992624</td>\n",
       "      <td>0.993012</td>\n",
       "      <td>0.992236</td>\n",
       "      <td>0.992857</td>\n",
       "      <td>0.000527</td>\n",
       "    </tr>\n",
       "    <tr>\n",
       "      <th>10</th>\n",
       "      <td>0.346717</td>\n",
       "      <td>0.018817</td>\n",
       "      <td>0.031496</td>\n",
       "      <td>0.002155</td>\n",
       "      <td>1000</td>\n",
       "      <td>0.001</td>\n",
       "      <td>{'C': 1000, 'gamma': 0.001}</td>\n",
       "      <td>0.919255</td>\n",
       "      <td>0.944099</td>\n",
       "      <td>0.930124</td>\n",
       "      <td>...</td>\n",
       "      <td>0.933851</td>\n",
       "      <td>0.009033</td>\n",
       "      <td>1</td>\n",
       "      <td>0.966615</td>\n",
       "      <td>0.966227</td>\n",
       "      <td>0.966615</td>\n",
       "      <td>0.963121</td>\n",
       "      <td>0.966227</td>\n",
       "      <td>0.965761</td>\n",
       "      <td>0.001331</td>\n",
       "    </tr>\n",
       "    <tr>\n",
       "      <th>11</th>\n",
       "      <td>0.247423</td>\n",
       "      <td>0.011251</td>\n",
       "      <td>0.036439</td>\n",
       "      <td>0.003101</td>\n",
       "      <td>1000</td>\n",
       "      <td>0.0001</td>\n",
       "      <td>{'C': 1000, 'gamma': 0.0001}</td>\n",
       "      <td>0.920807</td>\n",
       "      <td>0.936335</td>\n",
       "      <td>0.925466</td>\n",
       "      <td>...</td>\n",
       "      <td>0.929193</td>\n",
       "      <td>0.005777</td>\n",
       "      <td>6</td>\n",
       "      <td>0.940606</td>\n",
       "      <td>0.940994</td>\n",
       "      <td>0.940994</td>\n",
       "      <td>0.937112</td>\n",
       "      <td>0.937500</td>\n",
       "      <td>0.939441</td>\n",
       "      <td>0.001753</td>\n",
       "    </tr>\n",
       "  </tbody>\n",
       "</table>\n",
       "<p>12 rows × 22 columns</p>\n",
       "</div>"
      ],
      "text/plain": [
       "    mean_fit_time  std_fit_time  mean_score_time  std_score_time param_C  \\\n",
       "0        0.269214      0.020033         0.055881        0.006710       1   \n",
       "1        0.366548      0.013515         0.075167        0.003104       1   \n",
       "2        0.593977      0.011529         0.123664        0.001715       1   \n",
       "3        0.219823      0.020667         0.037520        0.002060      10   \n",
       "4        0.249746      0.020745         0.046656        0.003762      10   \n",
       "5        0.359926      0.003320         0.072597        0.001754      10   \n",
       "6        0.245291      0.018731         0.033737        0.003829     100   \n",
       "7        0.225962      0.006616         0.035665        0.002324     100   \n",
       "8        0.247058      0.005592         0.045038        0.000681     100   \n",
       "9        0.348134      0.028022         0.030787        0.003059    1000   \n",
       "10       0.346717      0.018817         0.031496        0.002155    1000   \n",
       "11       0.247423      0.011251         0.036439        0.003101    1000   \n",
       "\n",
       "   param_gamma                        params  split0_test_score  \\\n",
       "0         0.01       {'C': 1, 'gamma': 0.01}           0.917702   \n",
       "1        0.001      {'C': 1, 'gamma': 0.001}           0.886646   \n",
       "2       0.0001     {'C': 1, 'gamma': 0.0001}           0.770186   \n",
       "3         0.01      {'C': 10, 'gamma': 0.01}           0.909938   \n",
       "4        0.001     {'C': 10, 'gamma': 0.001}           0.917702   \n",
       "5       0.0001    {'C': 10, 'gamma': 0.0001}           0.883540   \n",
       "6         0.01     {'C': 100, 'gamma': 0.01}           0.913043   \n",
       "7        0.001    {'C': 100, 'gamma': 0.001}           0.923913   \n",
       "8       0.0001   {'C': 100, 'gamma': 0.0001}           0.919255   \n",
       "9         0.01    {'C': 1000, 'gamma': 0.01}           0.908385   \n",
       "10       0.001   {'C': 1000, 'gamma': 0.001}           0.919255   \n",
       "11      0.0001  {'C': 1000, 'gamma': 0.0001}           0.920807   \n",
       "\n",
       "    split1_test_score  split2_test_score  ...  mean_test_score  \\\n",
       "0            0.939441           0.922360  ...         0.929814   \n",
       "1            0.919255           0.899068  ...         0.904037   \n",
       "2            0.802795           0.791925  ...         0.786025   \n",
       "3            0.944099           0.934783  ...         0.933230   \n",
       "4            0.934783           0.916149  ...         0.928261   \n",
       "5            0.914596           0.899068  ...         0.902174   \n",
       "6            0.937888           0.934783  ...         0.931677   \n",
       "7            0.940994           0.925466  ...         0.933851   \n",
       "8            0.934783           0.917702  ...         0.927019   \n",
       "9            0.922360           0.920807  ...         0.918323   \n",
       "10           0.944099           0.930124  ...         0.933851   \n",
       "11           0.936335           0.925466  ...         0.929193   \n",
       "\n",
       "    std_test_score  rank_test_score  split0_train_score  split1_train_score  \\\n",
       "0         0.008528                5            0.943323            0.940994   \n",
       "1         0.013080               10            0.910326            0.903339   \n",
       "2         0.015322               12            0.789208            0.779503   \n",
       "3         0.012266                3            0.966227            0.966615   \n",
       "4         0.009491                7            0.937112            0.932453   \n",
       "5         0.013749               11            0.909938            0.902174   \n",
       "6         0.010159                4            0.982531            0.979814   \n",
       "7         0.008482                1            0.950311            0.949534   \n",
       "8         0.007349                8            0.934006            0.931289   \n",
       "9         0.005607                9            0.993789            0.992624   \n",
       "10        0.009033                1            0.966615            0.966227   \n",
       "11        0.005777                6            0.940606            0.940994   \n",
       "\n",
       "    split2_train_score  split3_train_score  split4_train_score  \\\n",
       "0             0.945264            0.937112            0.939829   \n",
       "1             0.908773            0.906056            0.904115   \n",
       "2             0.785326            0.791925            0.788820   \n",
       "3             0.967003            0.961568            0.962345   \n",
       "4             0.936335            0.935171            0.931289   \n",
       "5             0.908773            0.905280            0.902562   \n",
       "6             0.982531            0.982143            0.982531   \n",
       "7             0.948758            0.945652            0.939829   \n",
       "8             0.934006            0.930901            0.929348   \n",
       "9             0.992624            0.993012            0.992236   \n",
       "10            0.966615            0.963121            0.966227   \n",
       "11            0.940994            0.937112            0.937500   \n",
       "\n",
       "    mean_train_score  std_train_score  \n",
       "0           0.941304         0.002814  \n",
       "1           0.906522         0.002672  \n",
       "2           0.786957         0.004277  \n",
       "3           0.964752         0.002308  \n",
       "4           0.934472         0.002242  \n",
       "5           0.905745         0.003158  \n",
       "6           0.981910         0.001059  \n",
       "7           0.946817         0.003835  \n",
       "8           0.931910         0.001831  \n",
       "9           0.992857         0.000527  \n",
       "10          0.965761         0.001331  \n",
       "11          0.939441         0.001753  \n",
       "\n",
       "[12 rows x 22 columns]"
      ]
     },
     "execution_count": 38,
     "metadata": {},
     "output_type": "execute_result"
    }
   ],
   "source": [
    "# cv results\n",
    "cv_results = pd.DataFrame(model_cv.cv_results_)\n",
    "cv_results"
   ]
  },
  {
   "cell_type": "code",
   "execution_count": 39,
   "metadata": {
    "execution": {
     "iopub.execute_input": "2020-08-21T06:41:37.941399Z",
     "iopub.status.busy": "2020-08-21T06:41:37.940278Z",
     "iopub.status.idle": "2020-08-21T06:41:39.022554Z",
     "shell.execute_reply": "2020-08-21T06:41:39.021958Z"
    },
    "papermill": {
     "duration": 1.114453,
     "end_time": "2020-08-21T06:41:39.022675",
     "exception": false,
     "start_time": "2020-08-21T06:41:37.908222",
     "status": "completed"
    },
    "tags": []
   },
   "outputs": [
    {
     "data": {
      "image/png": "[encoded data removed]",
      "text/plain": [
       "<Figure size 1152x432 with 3 Axes>"
      ]
     },
     "metadata": {
      "needs_background": "light"
     },
     "output_type": "display_data"
    }
   ],
   "source": [
    "# converting C to numeric type for plotting on x-axis\n",
    "cv_results['param_C'] = cv_results['param_C'].astype('int')\n",
    "\n",
    "# # plotting\n",
    "plt.figure(figsize=(16,6))\n",
    "\n",
    "# subplot 1/3\n",
    "plt.subplot(131)\n",
    "gamma_01 = cv_results[cv_results['param_gamma']==0.01]\n",
    "\n",
    "plt.plot(gamma_01[\"param_C\"], gamma_01[\"mean_test_score\"])\n",
    "plt.plot(gamma_01[\"param_C\"], gamma_01[\"mean_train_score\"])\n",
    "plt.xlabel('C')\n",
    "plt.ylabel('Accuracy')\n",
    "plt.title(\"Gamma=0.01\")\n",
    "plt.ylim([0.80, 1])\n",
    "plt.legend(['test accuracy', 'train accuracy'], loc='upper left')\n",
    "plt.xscale('log')\n",
    "\n",
    "# subplot 2/3\n",
    "plt.subplot(132)\n",
    "gamma_001 = cv_results[cv_results['param_gamma']==0.001]\n",
    "\n",
    "plt.plot(gamma_001[\"param_C\"], gamma_001[\"mean_test_score\"])\n",
    "plt.plot(gamma_001[\"param_C\"], gamma_001[\"mean_train_score\"])\n",
    "plt.xlabel('C')\n",
    "plt.ylabel('Accuracy')\n",
    "plt.title(\"Gamma=0.001\")\n",
    "plt.ylim([0.80, 1])\n",
    "plt.legend(['test accuracy', 'train accuracy'], loc='upper left')\n",
    "plt.xscale('log')\n",
    "\n",
    "\n",
    "# subplot 3/3\n",
    "plt.subplot(133)\n",
    "gamma_0001 = cv_results[cv_results['param_gamma']==0.0001]\n",
    "\n",
    "plt.plot(gamma_0001[\"param_C\"], gamma_0001[\"mean_test_score\"])\n",
    "plt.plot(gamma_0001[\"param_C\"], gamma_0001[\"mean_train_score\"])\n",
    "plt.xlabel('C')\n",
    "plt.ylabel('Accuracy')\n",
    "plt.title(\"Gamma=0.0001\")\n",
    "plt.ylim([0.80, 1])\n",
    "plt.legend(['test accuracy', 'train accuracy'], loc='upper left')\n",
    "plt.xscale('log')\n"
   ]
  },
  {
   "cell_type": "markdown",
   "execution_count": null,
   "metadata": {
    "papermill": {
     "duration": 0.015971,
     "end_time": "2020-08-21T06:41:39.054906",
     "exception": false,
     "start_time": "2020-08-21T06:41:39.038935",
     "status": "completed"
    },
    "tags": []
   },
   "source": [
    "This plot reveals some interesting insights:\n",
    "- **High values of gamma** lead to **overfitting** (especially at high values of C); note that the training accuracy at gamma=0.01 and C=1000 reaches almost 99% \n",
    "- The **training score increases with higher gamma**, though the **test scores are comparable** (at sufficiently high cost, i.e. C > 10)\n",
    "- The least amount of overfitting (i.e. difference between train and test accuracy) occurs at low gamma, i.e. a quite *simple non-linear model*\n"
   ]
  },
  {
   "cell_type": "code",
   "execution_count": 40,
   "metadata": {
    "execution": {
     "iopub.execute_input": "2020-08-21T06:41:39.093588Z",
     "iopub.status.busy": "2020-08-21T06:41:39.092809Z",
     "iopub.status.idle": "2020-08-21T06:41:39.096756Z",
     "shell.execute_reply": "2020-08-21T06:41:39.097251Z"
    },
    "papermill": {
     "duration": 0.026302,
     "end_time": "2020-08-21T06:41:39.097445",
     "exception": false,
     "start_time": "2020-08-21T06:41:39.071143",
     "status": "completed"
    },
    "tags": []
   },
   "outputs": [
    {
     "name": "stdout",
     "output_type": "stream",
     "text": [
      "The best test score is 0.9338509316770185 corresponding to hyperparameters {'C': 100, 'gamma': 0.001}\n"
     ]
    }
   ],
   "source": [
    "# printing the optimal accuracy score and hyperparameters\n",
    "best_score = model_cv.best_score_\n",
    "best_hyperparams = model_cv.best_params_\n",
    "\n",
    "print(\"The best test score is {0} corresponding to hyperparameters {1}\".format(best_score, best_hyperparams))"
   ]
  },
  {
   "cell_type": "markdown",
   "execution_count": null,
   "metadata": {
    "papermill": {
     "duration": 0.016116,
     "end_time": "2020-08-21T06:41:39.130801",
     "exception": false,
     "start_time": "2020-08-21T06:41:39.114685",
     "status": "completed"
    },
    "tags": []
   },
   "source": [
    "Though sklearn suggests the optimal scores mentioned above (gamma=0.001, C=100), one could argue that it is better to choose a simpler, more non-linear model with gamma=0.0001. This is because the optimal values mentioned here are calculated based on the average test accuracy (but not considering subjective parameters such as model complexity).\n",
    "\n",
    "We can achieve comparable average test accuracy (~92.5%) with gamma=0.0001 as well, though we'll have to increase the cost C for that. So to achieve high accuracy, there's a tradeoff between:\n",
    "- High gamma (i.e. high non-linearity) and average value of C\n",
    "- Low gamma (i.e. less non-linearity) and high value of C\n",
    "\n",
    "We argue that the model will be simpler if it has as less non-linearity as possible, so we choose gamma=0.0001 and a high C=100.\n",
    "\n",
    "### Building and Evaluating the Final Model\n",
    "\n",
    "Let's now build and evaluate the final model, i.e. the model with highest test accuracy."
   ]
  },
  {
   "cell_type": "code",
   "execution_count": 41,
   "metadata": {
    "execution": {
     "iopub.execute_input": "2020-08-21T06:41:39.172428Z",
     "iopub.status.busy": "2020-08-21T06:41:39.171680Z",
     "iopub.status.idle": "2020-08-21T06:41:39.695140Z",
     "shell.execute_reply": "2020-08-21T06:41:39.694536Z"
    },
    "papermill": {
     "duration": 0.547845,
     "end_time": "2020-08-21T06:41:39.695283",
     "exception": false,
     "start_time": "2020-08-21T06:41:39.147438",
     "status": "completed"
    },
    "tags": []
   },
   "outputs": [
    {
     "name": "stdout",
     "output_type": "stream",
     "text": [
      "[[810  39]\n",
      " [ 60 472]] \n",
      "\n",
      "accuracy 0.9283128167994207\n",
      "precision 0.923679060665362\n",
      "sensitivity/recall 0.8872180451127819\n"
     ]
    }
   ],
   "source": [
    "# specify optimal hyperparameters\n",
    "best_params = {\"C\": 100, \"gamma\": 0.0001, \"kernel\":\"rbf\"}\n",
    "\n",
    "# model\n",
    "model = SVC(C=100, gamma=0.0001, kernel=\"rbf\")\n",
    "\n",
    "model.fit(X_train, y_train)\n",
    "y_pred = model.predict(X_test)\n",
    "\n",
    "# metrics\n",
    "print(metrics.confusion_matrix(y_test, y_pred), \"\\n\")\n",
    "print(\"accuracy\", metrics.accuracy_score(y_test, y_pred))\n",
    "print(\"precision\", metrics.precision_score(y_test, y_pred))\n",
    "print(\"sensitivity/recall\", metrics.recall_score(y_test, y_pred))"
   ]
  },
  {
   "cell_type": "markdown",
   "execution_count": null,
   "metadata": {
    "papermill": {
     "duration": 0.018574,
     "end_time": "2020-08-21T06:41:39.731038",
     "exception": false,
     "start_time": "2020-08-21T06:41:39.712464",
     "status": "completed"
    },
    "tags": []
   },
   "source": [
    "## Conclusion\n",
    "\n",
    "The accuracy achieved using a non-linear kernel is comparable to that of a linear one. Thus, it turns out that for this problem, **you do not really need a non-linear kernel**."
   ]
  },
  {
   "cell_type": "code",
   "execution_count": null,
   "metadata": {
    "papermill": {
     "duration": 0.018593,
     "end_time": "2020-08-21T06:41:39.768785",
     "exception": false,
     "start_time": "2020-08-21T06:41:39.750192",
     "status": "completed"
    },
    "tags": []
   },
   "outputs": [],
   "source": []
  }
 ],
 "metadata": {
  "kernelspec": {
   "display_name": "Python 3",
   "language": "python",
   "name": "python3"
  },
  "language_info": {
   "codemirror_mode": {
    "name": "ipython",
    "version": 3
   },
   "file_extension": ".py",
   "mimetype": "text/x-python",
   "name": "python",
   "nbconvert_exporter": "python",
   "pygments_lexer": "ipython3",
   "version": "3.7.6"
  },
  "papermill": {
   "duration": 108.925066,
   "end_time": "2020-08-21T06:41:39.899565",
   "environment_variables": {},
   "exception": null,
   "input_path": "__notebook__.ipynb",
   "output_path": "__notebook__.ipynb",
   "parameters": {},
   "start_time": "2020-08-21T06:39:50.974499",
   "version": "2.1.0"
  }
 },
 "nbformat": 4,
 "nbformat_minor": 4
}
